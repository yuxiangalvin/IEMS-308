{
 "cells": [
  {
   "cell_type": "code",
   "execution_count": 23,
   "metadata": {},
   "outputs": [],
   "source": [
    "# from transformers import pipeline\n",
    "import pandas as pd\n",
    "import numpy as np \n",
    "\n",
    "# Import NLTK module\n",
    "import nltk\n",
    "# nltk.download('punkt')\n",
    "# nltk.download('averaged_perceptron_tagger')\n",
    "# nltk.download('maxent_ne_chunker')\n",
    "# nltk.download('words')\n",
    "# nltk.download('stopwords')\n",
    "\n",
    "from nltk.tokenize import word_tokenize\n",
    "from nltk.tag import pos_tag\n",
    "from nltk.stem import PorterStemmer \n",
    "ps = PorterStemmer() \n",
    "from nltk.stem import WordNetLemmatizer \n",
    "lemmatizer = WordNetLemmatizer() \n",
    "\n",
    "\n",
    "from nltk.corpus import stopwords\n",
    "\n",
    "\n",
    "\n",
    "\n",
    "import spacy \n",
    "import en_core_web_sm\n",
    "\n",
    "import re\n",
    "import string \n",
    "\n",
    "import os\n",
    "\n",
    "import seaborn as sns\n",
    "\n",
    "import sklearn\n",
    "\n",
    "from sklearn.metrics import confusion_matrix\n",
    "from sklearn.metrics import f1_score\n",
    "from sklearn.model_selection import train_test_split\n",
    "import statsmodels.api as sm "
   ]
  },
  {
   "cell_type": "code",
   "execution_count": 5,
   "metadata": {},
   "outputs": [],
   "source": [
    "nlp = en_core_web_sm.load()"
   ]
  },
  {
   "cell_type": "code",
   "execution_count": 6,
   "metadata": {},
   "outputs": [],
   "source": [
    "ceo_labels = pd.read_excel('./labels/ceo.xlsx', names = ['ceo first name', 'ceo last name'], dtype=str)\n",
    "for index,row in ceo_labels.iterrows():\n",
    "    if pd.isna(row['ceo last name']):        \n",
    "        ceo_labels.loc[index,'ceo name'] = row['ceo first name']\n",
    "    elif pd.isna(row['ceo first name']):\n",
    "        ceo_labels.loc[index,'ceo name'] = row['ceo last name']\n",
    "    else:\n",
    "        ceo_labels.loc[index,'ceo name'] = row['ceo first name'] + ' ' + row['ceo last name']"
   ]
  },
  {
   "cell_type": "code",
   "execution_count": 11,
   "metadata": {},
   "outputs": [],
   "source": [
    "all_article= ''\n",
    "result_dict = {}\n",
    "count = 0\n",
    "directory_list = [f'./BI-articles/2013',f'./BI-articles/2014']\n",
    "for directory in directory_list:\n",
    "    for file in os.listdir(directory):\n",
    "        filename = os.fsdecode(file)\n",
    "        if filename.endswith(\".txt\"):\n",
    "                    \n",
    "\n",
    "            with open(directory +'/'+ filename,'r', errors='replace') as f:\n",
    "                lines = f.readlines()\n",
    "            out = [(\" \" if line.startswith(\" \") else \"\\n\") + line.strip() for line in lines]\n",
    "            res = ''.join(out).split('\\n')[1:]\n",
    "            article_str = ' '.join(res)\n",
    "            article_str = article_str.replace(u'\\xa0', u' ')\n",
    "            \n",
    "            all_article += (article_str + ' ')\n",
    "            \n",
    "#             result_dict[directory[-4:] +'/'+ filename] = extract_all_percent(article_str, percent_word_list)\n",
    "#             count += 1\n",
    "#             if count % 10 == 0:\n",
    "#                 print(str(count) + '/730')\n"
   ]
  },
  {
   "cell_type": "code",
   "execution_count": 12,
   "metadata": {},
   "outputs": [],
   "source": [
    "# all_persons = []\n",
    "# count= 0\n",
    "# true_sentence_tag = []\n",
    "# sentence_has_CEO = []\n",
    "# sentence_has_executive = []\n",
    "# sentence_has_manager = []\n",
    "# sentence_has_other_position = []\n",
    "# name_has_possesive = []\n",
    "\n",
    "# all_sentences =  [] "
   ]
  },
  {
   "cell_type": "code",
   "execution_count": 13,
   "metadata": {},
   "outputs": [
    {
     "data": {
      "text/plain": [
       "array(['Patti Hart', 'Jamie Dimon', 'Steve Cohen', ..., 'Burda', 'Case',\n",
       "       'Mike'], dtype=object)"
      ]
     },
     "execution_count": 13,
     "metadata": {},
     "output_type": "execute_result"
    }
   ],
   "source": [
    "np.array(ceo_labels['ceo name'])"
   ]
  },
  {
   "cell_type": "code",
   "execution_count": 14,
   "metadata": {},
   "outputs": [
    {
     "name": "stdout",
     "output_type": "stream",
     "text": [
      "10/730\n",
      "20/730\n",
      "30/730\n",
      "40/730\n",
      "50/730\n",
      "60/730\n",
      "70/730\n",
      "80/730\n",
      "90/730\n",
      "100/730\n",
      "110/730\n",
      "120/730\n",
      "130/730\n",
      "140/730\n",
      "150/730\n",
      "160/730\n",
      "170/730\n",
      "180/730\n",
      "190/730\n",
      "200/730\n",
      "210/730\n",
      "220/730\n",
      "230/730\n",
      "240/730\n",
      "250/730\n",
      "260/730\n",
      "270/730\n",
      "280/730\n",
      "290/730\n",
      "300/730\n",
      "310/730\n",
      "320/730\n",
      "330/730\n",
      "340/730\n",
      "350/730\n",
      "360/730\n",
      "370/730\n",
      "380/730\n",
      "390/730\n",
      "400/730\n",
      "410/730\n",
      "420/730\n",
      "430/730\n",
      "440/730\n",
      "450/730\n",
      "460/730\n",
      "470/730\n",
      "480/730\n",
      "490/730\n",
      "500/730\n",
      "510/730\n",
      "520/730\n",
      "530/730\n",
      "540/730\n",
      "550/730\n",
      "560/730\n",
      "570/730\n",
      "580/730\n",
      "590/730\n",
      "600/730\n",
      "610/730\n",
      "620/730\n",
      "630/730\n",
      "640/730\n",
      "650/730\n",
      "660/730\n",
      "670/730\n",
      "680/730\n",
      "690/730\n",
      "700/730\n",
      "710/730\n",
      "720/730\n",
      "730/730\n"
     ]
    }
   ],
   "source": [
    "all_persons = []\n",
    "count= 0\n",
    "true_sentence_tag = []\n",
    "sentence_has_CEO = []\n",
    "sentence_has_executive = []\n",
    "sentence_has_manager = []\n",
    "sentence_has_other_position = []\n",
    "name_has_possesive_at_end = []\n",
    "\n",
    "\n",
    "\n",
    "all_sentences =  [] \n",
    "\n",
    "count = 0\n",
    "\n",
    "directory_list = [f'./BI-articles/2013',f'./BI-articles/2014']\n",
    "for directory in directory_list:\n",
    "    for file in os.listdir(directory):\n",
    "        filename = os.fsdecode(file)\n",
    "        if filename.endswith(\".txt\"):\n",
    "                    \n",
    "\n",
    "            with open(directory +'/'+ filename,'r', errors='replace') as f:\n",
    "                lines = f.readlines()\n",
    "            out = [(\" \" if line.startswith(\" \") else \"\\n\") + line.strip() for line in lines]\n",
    "            res = ''.join(out).split('\\n')[1:]\n",
    "            article_str = ' '.join(res)\n",
    "            article_str = article_str.replace(u'\\xa0', u' ')\n",
    "\n",
    "            nlp_result = nlp(article_str)\n",
    "            ents = nlp_result.ents\n",
    "            \n",
    "            count+=1\n",
    "            if count % 10 == 0:\n",
    "                print(str(count) + '/' + '730')\n",
    "\n",
    "            for ent in ents:\n",
    "                if ent.label_ == 'PERSON':\n",
    "\n",
    "                    if ent.text.lower()[-2:] == '\\'s': \n",
    "                        person_name = ent.text[:-2]\n",
    "                        name_has_possesive_at_end.append(True)\n",
    "                    else:\n",
    "                        person_name = ent.text\n",
    "                        name_has_possesive_at_end.append(False)\n",
    "                        \n",
    "                    all_persons.append(person_name)\n",
    "                        \n",
    "                    if person_name in np.array(ceo_labels['ceo name']):\n",
    "                        true_sentence_tag.append(True)\n",
    "                    else:\n",
    "                        true_sentence_tag.append(False)\n",
    "\n",
    "                    sentence = article_str[ent.sent.start_char : ent.sent.end_char]\n",
    "                    all_sentences.append(sentence)\n",
    "\n",
    "                    if 'CEO' in sentence:\n",
    "                        sentence_has_CEO.append(True)\n",
    "                    else:\n",
    "                        sentence_has_CEO.append(False)\n",
    "                    if 'executive' in sentence:\n",
    "                        sentence_has_executive.append(True)\n",
    "                    else:\n",
    "                        sentence_has_executive.append(False)\n",
    "                    if 'manager' in sentence:\n",
    "                        sentence_has_manager.append(True)\n",
    "                    else:\n",
    "                        sentence_has_manager.append(False)\n",
    "                    if ('strategist' in sentence) or ('advisor' in sentence) or ('analyst' in sentence):\n",
    "                        sentence_has_other_position.append(True)\n",
    "                    else:\n",
    "                        sentence_has_other_position.append(False)\n",
    "\n"
   ]
  },
  {
   "cell_type": "code",
   "execution_count": 15,
   "metadata": {},
   "outputs": [],
   "source": [
    "all_persons = np.array(all_persons)\n",
    "count= 0\n",
    "true_sentence_tag =  np.array(true_sentence_tag)\n",
    "sentence_has_CEO =  np.array(sentence_has_CEO)\n",
    "sentence_has_executive =  np.array(sentence_has_executive)\n",
    "sentence_has_manager =  np.array(sentence_has_manager)\n",
    "sentence_has_other_position =  np.array(sentence_has_other_position)\n",
    "name_has_possesive_at_end =  np.array(name_has_possesive_at_end)\n",
    "\n",
    "# all_sentences =   np.array(all_sentences)"
   ]
  },
  {
   "cell_type": "code",
   "execution_count": 16,
   "metadata": {},
   "outputs": [],
   "source": [
    "summary_df = pd.DataFrame(data = np.array([true_sentence_tag, sentence_has_CEO, sentence_has_executive, sentence_has_manager, sentence_has_other_position, name_has_possesive_at_end]).T, \n",
    "                          columns = ['true_sentence_tag', 'sentence_has_CEO', 'sentence_has_executive', 'sentence_has_manager', 'sentence_has_other_position', 'name_has_possesive_at_end'])"
   ]
  },
  {
   "cell_type": "code",
   "execution_count": 17,
   "metadata": {},
   "outputs": [],
   "source": [
    "summary_df.to_excel('CEO_summary_df.xlsx')"
   ]
  },
  {
   "cell_type": "code",
   "execution_count": 18,
   "metadata": {},
   "outputs": [
    {
     "data": {
      "text/html": [
       "<div>\n",
       "<style scoped>\n",
       "    .dataframe tbody tr th:only-of-type {\n",
       "        vertical-align: middle;\n",
       "    }\n",
       "\n",
       "    .dataframe tbody tr th {\n",
       "        vertical-align: top;\n",
       "    }\n",
       "\n",
       "    .dataframe thead th {\n",
       "        text-align: right;\n",
       "    }\n",
       "</style>\n",
       "<table border=\"1\" class=\"dataframe\">\n",
       "  <thead>\n",
       "    <tr style=\"text-align: right;\">\n",
       "      <th></th>\n",
       "      <th>true_sentence_tag</th>\n",
       "      <th>sentence_has_CEO</th>\n",
       "      <th>sentence_has_executive</th>\n",
       "      <th>sentence_has_manager</th>\n",
       "      <th>sentence_has_other_position</th>\n",
       "      <th>name_has_possesive_at_end</th>\n",
       "    </tr>\n",
       "  </thead>\n",
       "  <tbody>\n",
       "    <tr>\n",
       "      <th>0</th>\n",
       "      <td>False</td>\n",
       "      <td>False</td>\n",
       "      <td>False</td>\n",
       "      <td>False</td>\n",
       "      <td>False</td>\n",
       "      <td>False</td>\n",
       "    </tr>\n",
       "    <tr>\n",
       "      <th>1</th>\n",
       "      <td>False</td>\n",
       "      <td>False</td>\n",
       "      <td>False</td>\n",
       "      <td>False</td>\n",
       "      <td>False</td>\n",
       "      <td>False</td>\n",
       "    </tr>\n",
       "    <tr>\n",
       "      <th>2</th>\n",
       "      <td>False</td>\n",
       "      <td>False</td>\n",
       "      <td>False</td>\n",
       "      <td>False</td>\n",
       "      <td>False</td>\n",
       "      <td>False</td>\n",
       "    </tr>\n",
       "    <tr>\n",
       "      <th>3</th>\n",
       "      <td>False</td>\n",
       "      <td>False</td>\n",
       "      <td>False</td>\n",
       "      <td>False</td>\n",
       "      <td>False</td>\n",
       "      <td>True</td>\n",
       "    </tr>\n",
       "    <tr>\n",
       "      <th>4</th>\n",
       "      <td>False</td>\n",
       "      <td>False</td>\n",
       "      <td>False</td>\n",
       "      <td>False</td>\n",
       "      <td>False</td>\n",
       "      <td>False</td>\n",
       "    </tr>\n",
       "  </tbody>\n",
       "</table>\n",
       "</div>"
      ],
      "text/plain": [
       "   true_sentence_tag  sentence_has_CEO  sentence_has_executive  \\\n",
       "0              False             False                   False   \n",
       "1              False             False                   False   \n",
       "2              False             False                   False   \n",
       "3              False             False                   False   \n",
       "4              False             False                   False   \n",
       "\n",
       "   sentence_has_manager  sentence_has_other_position  \\\n",
       "0                 False                        False   \n",
       "1                 False                        False   \n",
       "2                 False                        False   \n",
       "3                 False                        False   \n",
       "4                 False                        False   \n",
       "\n",
       "   name_has_possesive_at_end  \n",
       "0                      False  \n",
       "1                      False  \n",
       "2                      False  \n",
       "3                       True  \n",
       "4                      False  "
      ]
     },
     "execution_count": 18,
     "metadata": {},
     "output_type": "execute_result"
    }
   ],
   "source": [
    "summary_df.head()"
   ]
  },
  {
   "cell_type": "code",
   "execution_count": 19,
   "metadata": {},
   "outputs": [],
   "source": [
    "summary_df_pos_samples = summary_df[summary_df['true_sentence_tag']==True]\n",
    "summary_df_neg_samples = summary_df[summary_df['true_sentence_tag']==False]"
   ]
  },
  {
   "cell_type": "code",
   "execution_count": 20,
   "metadata": {},
   "outputs": [],
   "source": [
    "neg_sample_n = summary_df_neg_samples.shape[0]\n",
    "pos_sample_n = neg_sample_n"
   ]
  },
  {
   "cell_type": "code",
   "execution_count": 21,
   "metadata": {},
   "outputs": [],
   "source": [
    "summary_df_oversample_pos_samples = summary_df_pos_samples.sample(n=pos_sample_n, random_state=10, replace=True)"
   ]
  },
  {
   "cell_type": "code",
   "execution_count": 24,
   "metadata": {},
   "outputs": [],
   "source": [
    "used_data = pd.concat([summary_df_oversample_pos_samples, summary_df_neg_samples])\n",
    "used_x = used_data.iloc[:,1:]\n",
    "used_y = used_data.iloc[:,0]\n",
    "\n",
    "X_train, X_test, y_train, y_test = train_test_split(used_x,\n",
    "                                                    used_y, \n",
    "                                                    test_size = 0.2)\n"
   ]
  },
  {
   "cell_type": "code",
   "execution_count": 25,
   "metadata": {},
   "outputs": [],
   "source": [
    "del summary_df_neg_samples\n",
    "del summary_df_pos_samples\n",
    "del summary_df_oversample_pos_samples\n",
    "del used_data\n",
    "del used_x\n",
    "del used_y"
   ]
  },
  {
   "cell_type": "code",
   "execution_count": 26,
   "metadata": {},
   "outputs": [
    {
     "name": "stdout",
     "output_type": "stream",
     "text": [
      "Optimization terminated successfully.\n",
      "         Current function value: 0.623519\n",
      "         Iterations 7\n"
     ]
    },
    {
     "data": {
      "text/html": [
       "<table class=\"simpletable\">\n",
       "<caption>Logit Regression Results</caption>\n",
       "<tr>\n",
       "  <th>Dep. Variable:</th>   <td>true_sentence_tag</td> <th>  No. Observations:  </th>   <td>278377</td>   \n",
       "</tr>\n",
       "<tr>\n",
       "  <th>Model:</th>                 <td>Logit</td>       <th>  Df Residuals:      </th>   <td>278372</td>   \n",
       "</tr>\n",
       "<tr>\n",
       "  <th>Method:</th>                 <td>MLE</td>        <th>  Df Model:          </th>   <td>     4</td>   \n",
       "</tr>\n",
       "<tr>\n",
       "  <th>Date:</th>            <td>Tue, 02 Mar 2021</td>  <th>  Pseudo R-squ.:     </th>   <td>0.1005</td>   \n",
       "</tr>\n",
       "<tr>\n",
       "  <th>Time:</th>                <td>16:18:34</td>      <th>  Log-Likelihood:    </th> <td>-1.7357e+05</td>\n",
       "</tr>\n",
       "<tr>\n",
       "  <th>converged:</th>             <td>True</td>        <th>  LL-Null:           </th> <td>-1.9296e+05</td>\n",
       "</tr>\n",
       "<tr>\n",
       "  <th>Covariance Type:</th>     <td>nonrobust</td>     <th>  LLR p-value:       </th>   <td> 0.000</td>   \n",
       "</tr>\n",
       "</table>\n",
       "<table class=\"simpletable\">\n",
       "<tr>\n",
       "               <td></td>                  <th>coef</th>     <th>std err</th>      <th>z</th>      <th>P>|z|</th>  <th>[0.025</th>    <th>0.975]</th>  \n",
       "</tr>\n",
       "<tr>\n",
       "  <th>sentence_has_CEO</th>            <td>    2.6058</td> <td>    0.021</td> <td>  126.184</td> <td> 0.000</td> <td>    2.565</td> <td>    2.646</td>\n",
       "</tr>\n",
       "<tr>\n",
       "  <th>sentence_has_executive</th>      <td>    0.9275</td> <td>    0.028</td> <td>   33.304</td> <td> 0.000</td> <td>    0.873</td> <td>    0.982</td>\n",
       "</tr>\n",
       "<tr>\n",
       "  <th>sentence_has_manager</th>        <td>    0.9337</td> <td>    0.027</td> <td>   34.999</td> <td> 0.000</td> <td>    0.881</td> <td>    0.986</td>\n",
       "</tr>\n",
       "<tr>\n",
       "  <th>sentence_has_other_position</th> <td>   -0.7520</td> <td>    0.025</td> <td>  -29.825</td> <td> 0.000</td> <td>   -0.801</td> <td>   -0.703</td>\n",
       "</tr>\n",
       "<tr>\n",
       "  <th>name_has_possesive_at_end</th>   <td>    0.9086</td> <td>    0.024</td> <td>   37.274</td> <td> 0.000</td> <td>    0.861</td> <td>    0.956</td>\n",
       "</tr>\n",
       "</table>"
      ],
      "text/plain": [
       "<class 'statsmodels.iolib.summary.Summary'>\n",
       "\"\"\"\n",
       "                           Logit Regression Results                           \n",
       "==============================================================================\n",
       "Dep. Variable:      true_sentence_tag   No. Observations:               278377\n",
       "Model:                          Logit   Df Residuals:                   278372\n",
       "Method:                           MLE   Df Model:                            4\n",
       "Date:                Tue, 02 Mar 2021   Pseudo R-squ.:                  0.1005\n",
       "Time:                        16:18:34   Log-Likelihood:            -1.7357e+05\n",
       "converged:                       True   LL-Null:                   -1.9296e+05\n",
       "Covariance Type:            nonrobust   LLR p-value:                     0.000\n",
       "===============================================================================================\n",
       "                                  coef    std err          z      P>|z|      [0.025      0.975]\n",
       "-----------------------------------------------------------------------------------------------\n",
       "sentence_has_CEO                2.6058      0.021    126.184      0.000       2.565       2.646\n",
       "sentence_has_executive          0.9275      0.028     33.304      0.000       0.873       0.982\n",
       "sentence_has_manager            0.9337      0.027     34.999      0.000       0.881       0.986\n",
       "sentence_has_other_position    -0.7520      0.025    -29.825      0.000      -0.801      -0.703\n",
       "name_has_possesive_at_end       0.9086      0.024     37.274      0.000       0.861       0.956\n",
       "===============================================================================================\n",
       "\"\"\""
      ]
     },
     "execution_count": 26,
     "metadata": {},
     "output_type": "execute_result"
    }
   ],
   "source": [
    "sm_logreg = sm.Logit(y_train, X_train).fit()\n",
    "sm_logreg.summary()"
   ]
  },
  {
   "cell_type": "code",
   "execution_count": 68,
   "metadata": {},
   "outputs": [],
   "source": [
    "def predict_to_label(pred_value):\n",
    "    if pred_value >= 0.5:\n",
    "        return True\n",
    "    else:\n",
    "        return False"
   ]
  },
  {
   "cell_type": "code",
   "execution_count": 69,
   "metadata": {},
   "outputs": [],
   "source": [
    "y_pred = list(map(predict_to_label, sm_logreg.predict(X_test)))"
   ]
  },
  {
   "cell_type": "code",
   "execution_count": 70,
   "metadata": {},
   "outputs": [],
   "source": [
    "c_matrix = confusion_matrix(y_pred, y_test)"
   ]
  },
  {
   "cell_type": "code",
   "execution_count": 71,
   "metadata": {},
   "outputs": [
    {
     "data": {
      "text/plain": [
       "0.6662124147060826"
      ]
     },
     "execution_count": 71,
     "metadata": {},
     "output_type": "execute_result"
    }
   ],
   "source": [
    "f1_score(y_test, y_pred, average=None)[1]"
   ]
  },
  {
   "cell_type": "code",
   "execution_count": 72,
   "metadata": {},
   "outputs": [
    {
     "data": {
      "text/plain": [
       "0.49689057469236536"
      ]
     },
     "execution_count": 72,
     "metadata": {},
     "output_type": "execute_result"
    }
   ],
   "source": [
    "#False negative rate\n",
    "c_matrix[1,0] / (c_matrix[1,0]  + c_matrix[1,1]) "
   ]
  },
  {
   "cell_type": "code",
   "execution_count": 73,
   "metadata": {},
   "outputs": [],
   "source": [
    "def predict_to_label(pred_value):\n",
    "    if pred_value > 0.5:\n",
    "        return True\n",
    "    else:\n",
    "        return False"
   ]
  },
  {
   "cell_type": "code",
   "execution_count": 74,
   "metadata": {},
   "outputs": [],
   "source": [
    "y_pred = list(map(predict_to_label, sm_logreg.predict(X_test)))"
   ]
  },
  {
   "cell_type": "code",
   "execution_count": 75,
   "metadata": {},
   "outputs": [],
   "source": [
    "c_matrix = confusion_matrix(y_pred, y_test)"
   ]
  },
  {
   "cell_type": "code",
   "execution_count": 76,
   "metadata": {},
   "outputs": [
    {
     "data": {
      "text/plain": [
       "0.5111106626031848"
      ]
     },
     "execution_count": 76,
     "metadata": {},
     "output_type": "execute_result"
    }
   ],
   "source": [
    "f1_score(y_test, y_pred, average=None)[1]"
   ]
  },
  {
   "cell_type": "code",
   "execution_count": 77,
   "metadata": {},
   "outputs": [
    {
     "data": {
      "text/plain": [
       "array([[32710, 22052],\n",
       "       [ 2171, 12662]], dtype=int64)"
      ]
     },
     "execution_count": 77,
     "metadata": {},
     "output_type": "execute_result"
    }
   ],
   "source": [
    "c_matrix"
   ]
  },
  {
   "cell_type": "code",
   "execution_count": 78,
   "metadata": {},
   "outputs": [
    {
     "data": {
      "text/plain": [
       "0.14636283961437335"
      ]
     },
     "execution_count": 78,
     "metadata": {},
     "output_type": "execute_result"
    }
   ],
   "source": [
    "#False negative rate\n",
    "c_matrix[1,0] / (c_matrix[1,0]  + c_matrix[1,1]) "
   ]
  },
  {
   "cell_type": "markdown",
   "metadata": {},
   "source": [
    "#### Inference on all entities"
   ]
  },
  {
   "cell_type": "code",
   "execution_count": 79,
   "metadata": {},
   "outputs": [],
   "source": [
    "all_x = summary_df.iloc[:,1:]"
   ]
  },
  {
   "cell_type": "code",
   "execution_count": 80,
   "metadata": {},
   "outputs": [],
   "source": [
    "pred_all_y = np.array(list(map(predict_to_label, sm_logreg.predict(all_x))))"
   ]
  },
  {
   "cell_type": "code",
   "execution_count": 81,
   "metadata": {},
   "outputs": [
    {
     "data": {
      "text/plain": [
       "15628"
      ]
     },
     "execution_count": 81,
     "metadata": {},
     "output_type": "execute_result"
    }
   ],
   "source": [
    "sum(pred_all_y)"
   ]
  },
  {
   "cell_type": "code",
   "execution_count": null,
   "metadata": {},
   "outputs": [],
   "source": []
  },
  {
   "cell_type": "code",
   "execution_count": 82,
   "metadata": {},
   "outputs": [],
   "source": [
    "all_ceo_array = all_persons[pred_all_y]"
   ]
  },
  {
   "cell_type": "code",
   "execution_count": 83,
   "metadata": {},
   "outputs": [
    {
     "data": {
      "text/plain": [
       "15628"
      ]
     },
     "execution_count": 83,
     "metadata": {},
     "output_type": "execute_result"
    }
   ],
   "source": [
    "len(all_ceo_array)"
   ]
  },
  {
   "cell_type": "code",
   "execution_count": 84,
   "metadata": {},
   "outputs": [],
   "source": [
    "ceo_set = set()\n",
    "for ceo_name in all_ceo_array:\n",
    "    ceo_set.add(ceo_name)"
   ]
  },
  {
   "cell_type": "code",
   "execution_count": 85,
   "metadata": {},
   "outputs": [
    {
     "name": "stdout",
     "output_type": "stream",
     "text": [
      "found proportion: 0.8151355421686747\n"
     ]
    }
   ],
   "source": [
    "found_count = 0\n",
    "for ceo_label in ceo_labels['ceo name']:\n",
    "    if ceo_label in ceo_set:\n",
    "        found_count += 1\n",
    "print('found proportion:', found_count/len(ceo_labels))"
   ]
  },
  {
   "cell_type": "code",
   "execution_count": 86,
   "metadata": {},
   "outputs": [],
   "source": [
    "pd.Series(list(ceo_set), name='CEO names').to_excel('extracted CEOs.xlsx')"
   ]
  },
  {
   "cell_type": "code",
   "execution_count": 94,
   "metadata": {},
   "outputs": [
    {
     "data": {
      "text/plain": [
       "['Jai Mani',\n",
       " 'Jim Breyer',\n",
       " 'Andrew Schwartz',\n",
       " 'Su Fei Koo',\n",
       " 'Sebastian Mallaby',\n",
       " 'Schultz',\n",
       " 'Zimmer',\n",
       " 'Bob Dudley',\n",
       " 'Sam Palmisano',\n",
       " 'Mike Nudelman CNBC/Institutional Investor']"
      ]
     },
     "execution_count": 94,
     "metadata": {},
     "output_type": "execute_result"
    }
   ],
   "source": [
    "list(ceo_set)[:10]"
   ]
  },
  {
   "cell_type": "markdown",
   "metadata": {},
   "source": [
    "#### more checking evaluations to understand logistic regression coefficients"
   ]
  },
  {
   "cell_type": "code",
   "execution_count": 88,
   "metadata": {
    "scrolled": true
   },
   "outputs": [
    {
     "data": {
      "text/plain": [
       "0.5269531826908876"
      ]
     },
     "execution_count": 88,
     "metadata": {},
     "output_type": "execute_result"
    }
   ],
   "source": [
    "sum(true_sentence_tag & sentence_has_CEO)/sum(sentence_has_CEO)"
   ]
  },
  {
   "cell_type": "code",
   "execution_count": 89,
   "metadata": {},
   "outputs": [
    {
     "data": {
      "text/plain": [
       "0.20454545454545456"
      ]
     },
     "execution_count": 89,
     "metadata": {},
     "output_type": "execute_result"
    }
   ],
   "source": [
    "sum(true_sentence_tag & sentence_has_executive)/sum(sentence_has_executive)"
   ]
  },
  {
   "cell_type": "code",
   "execution_count": 90,
   "metadata": {},
   "outputs": [
    {
     "data": {
      "text/plain": [
       "0.1968503937007874"
      ]
     },
     "execution_count": 90,
     "metadata": {},
     "output_type": "execute_result"
    }
   ],
   "source": [
    "sum(true_sentence_tag & sentence_has_manager)/sum(sentence_has_manager)"
   ]
  },
  {
   "cell_type": "code",
   "execution_count": 91,
   "metadata": {},
   "outputs": [
    {
     "data": {
      "text/plain": [
       "0.05184694384628127"
      ]
     },
     "execution_count": 91,
     "metadata": {},
     "output_type": "execute_result"
    }
   ],
   "source": [
    "sum(true_sentence_tag & sentence_has_other_position)/sum(sentence_has_other_position)"
   ]
  },
  {
   "cell_type": "code",
   "execution_count": 92,
   "metadata": {},
   "outputs": [
    {
     "data": {
      "text/plain": [
       "0.18784683684794673"
      ]
     },
     "execution_count": 92,
     "metadata": {},
     "output_type": "execute_result"
    }
   ],
   "source": [
    "sum(true_sentence_tag & name_has_possesive_at_end)/sum(name_has_possesive_at_end)"
   ]
  },
  {
   "cell_type": "code",
   "execution_count": null,
   "metadata": {},
   "outputs": [],
   "source": []
  }
 ],
 "metadata": {
  "kernelspec": {
   "display_name": "Python 3",
   "language": "python",
   "name": "python3"
  },
  "language_info": {
   "codemirror_mode": {
    "name": "ipython",
    "version": 3
   },
   "file_extension": ".py",
   "mimetype": "text/x-python",
   "name": "python",
   "nbconvert_exporter": "python",
   "pygments_lexer": "ipython3",
   "version": "3.8.5"
  }
 },
 "nbformat": 4,
 "nbformat_minor": 4
}
