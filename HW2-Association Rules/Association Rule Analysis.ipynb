{
 "cells": [
  {
   "cell_type": "code",
   "execution_count": 3,
   "metadata": {},
   "outputs": [
    {
     "name": "stdout",
     "output_type": "stream",
     "text": [
      "Collecting dash\n",
      "  Downloading dash-1.19.0.tar.gz (75 kB)\n",
      "Requirement already satisfied: Flask>=1.0.4 in e:\\programs\\anaconda\\lib\\site-packages (from dash) (1.1.2)\n",
      "Collecting flask-compress\n",
      "  Downloading Flask_Compress-1.8.0-py3-none-any.whl (7.2 kB)\n",
      "Collecting plotly\n",
      "  Downloading plotly-4.14.3-py2.py3-none-any.whl (13.2 MB)\n",
      "Collecting dash_renderer==1.9.0\n",
      "  Downloading dash_renderer-1.9.0.tar.gz (1.0 MB)\n",
      "Collecting dash-core-components==1.15.0\n",
      "  Downloading dash_core_components-1.15.0.tar.gz (3.5 MB)\n",
      "Collecting dash-html-components==1.1.2\n",
      "  Downloading dash_html_components-1.1.2.tar.gz (188 kB)\n",
      "Collecting dash-table==4.11.2\n",
      "  Downloading dash_table-4.11.2.tar.gz (1.8 MB)\n",
      "Requirement already satisfied: future in e:\\programs\\anaconda\\lib\\site-packages (from dash) (0.18.2)\n",
      "Requirement already satisfied: Werkzeug>=0.15 in e:\\programs\\anaconda\\lib\\site-packages (from Flask>=1.0.4->dash) (1.0.1)\n",
      "Requirement already satisfied: Jinja2>=2.10.1 in e:\\programs\\anaconda\\lib\\site-packages (from Flask>=1.0.4->dash) (2.11.2)\n",
      "Requirement already satisfied: click>=5.1 in e:\\programs\\anaconda\\lib\\site-packages (from Flask>=1.0.4->dash) (7.1.2)\n",
      "Requirement already satisfied: itsdangerous>=0.24 in e:\\programs\\anaconda\\lib\\site-packages (from Flask>=1.0.4->dash) (1.1.0)\n",
      "Collecting brotli\n",
      "  Downloading Brotli-1.0.9-cp38-cp38-win_amd64.whl (365 kB)\n",
      "Requirement already satisfied: six in e:\\programs\\anaconda\\lib\\site-packages (from plotly->dash) (1.15.0)\n",
      "Collecting retrying>=1.3.3\n",
      "  Downloading retrying-1.3.3.tar.gz (10 kB)\n",
      "Requirement already satisfied: MarkupSafe>=0.23 in e:\\programs\\anaconda\\lib\\site-packages (from Jinja2>=2.10.1->Flask>=1.0.4->dash) (1.1.1)\n",
      "Building wheels for collected packages: dash, dash-renderer, dash-core-components, dash-html-components, dash-table, retrying\n",
      "  Building wheel for dash (setup.py): started\n",
      "  Building wheel for dash (setup.py): finished with status 'done'\n",
      "  Created wheel for dash: filename=dash-1.19.0-py3-none-any.whl size=84016 sha256=a740ad7e6e18e499d6a8ca22b87582de2ab88cf16497acb0d0d541e807fd7de9\n",
      "  Stored in directory: c:\\users\\yuxia\\appdata\\local\\pip\\cache\\wheels\\e7\\27\\2f\\a9f9bf858843b5365bcb311a80f0b2379737caf4ec50b2ae3a\n",
      "  Building wheel for dash-renderer (setup.py): started\n",
      "  Building wheel for dash-renderer (setup.py): finished with status 'done'\n",
      "  Created wheel for dash-renderer: filename=dash_renderer-1.9.0-py3-none-any.whl size=1014874 sha256=1f23b2d95f216112a09172fbea3808b9e0d804afa519fb0b00a599452e93c73f\n",
      "  Stored in directory: c:\\users\\yuxia\\appdata\\local\\pip\\cache\\wheels\\08\\94\\09\\e11ba8ae5d97e1c8ff5be0ac1f7cf42642eec6ea94ed1e4b44\n",
      "  Building wheel for dash-core-components (setup.py): started\n",
      "  Building wheel for dash-core-components (setup.py): finished with status 'done'\n",
      "  Created wheel for dash-core-components: filename=dash_core_components-1.15.0-py3-none-any.whl size=3527018 sha256=7c8b1b13c1af1a0cb19b04c6824ca862c138322fd18b12babb58b27510a2e417\n",
      "  Stored in directory: c:\\users\\yuxia\\appdata\\local\\pip\\cache\\wheels\\e3\\e6\\0e\\759ca580c568aad2436521fa6df67f53a141dc1ab8f040c4c7\n",
      "  Building wheel for dash-html-components (setup.py): started\n",
      "  Building wheel for dash-html-components (setup.py): finished with status 'done'\n",
      "  Created wheel for dash-html-components: filename=dash_html_components-1.1.2-py3-none-any.whl size=427836 sha256=532581c095942936b588e90672e6af36b73f313ae22e6194ff081569e73718d9\n",
      "  Stored in directory: c:\\users\\yuxia\\appdata\\local\\pip\\cache\\wheels\\8a\\bc\\a8\\7ad1d354777cfe77413fd7a092e07d7cc82f88f98997f4c463\n",
      "  Building wheel for dash-table (setup.py): started\n",
      "  Building wheel for dash-table (setup.py): finished with status 'done'\n",
      "  Created wheel for dash-table: filename=dash_table-4.11.2-py3-none-any.whl size=1839873 sha256=830638716b6f02916039f5fce5cb1570f544ef8d3558de3bd857645065e4e231\n",
      "  Stored in directory: c:\\users\\yuxia\\appdata\\local\\pip\\cache\\wheels\\cc\\1d\\a0\\720dcf854e410eddbe44f8434f4d3a6332fdd085178eeac4f9\n",
      "  Building wheel for retrying (setup.py): started\n",
      "  Building wheel for retrying (setup.py): finished with status 'done'\n",
      "  Created wheel for retrying: filename=retrying-1.3.3-py3-none-any.whl size=11434 sha256=cf4864b1b01ea41efbbf30ff687bfbaf334b0894b65de7c897b8311c58e02aad\n",
      "  Stored in directory: c:\\users\\yuxia\\appdata\\local\\pip\\cache\\wheels\\c4\\a7\\48\\0a434133f6d56e878ca511c0e6c38326907c0792f67b476e56\n",
      "Successfully built dash dash-renderer dash-core-components dash-html-components dash-table retrying\n",
      "Installing collected packages: brotli, flask-compress, retrying, plotly, dash-renderer, dash-core-components, dash-html-components, dash-table, dash\n",
      "Successfully installed brotli-1.0.9 dash-1.19.0 dash-core-components-1.15.0 dash-html-components-1.1.2 dash-renderer-1.9.0 dash-table-4.11.2 flask-compress-1.8.0 plotly-4.14.3 retrying-1.3.3\n"
     ]
    }
   ],
   "source": [
    "!pip install dash"
   ]
  },
  {
   "cell_type": "code",
   "execution_count": 246,
   "metadata": {},
   "outputs": [
    {
     "name": "stdout",
     "output_type": "stream",
     "text": [
      "Collecting apyori\n",
      "  Downloading apyori-1.1.2.tar.gz (8.6 kB)\n",
      "Building wheels for collected packages: apyori\n",
      "  Building wheel for apyori (setup.py): started\n",
      "  Building wheel for apyori (setup.py): finished with status 'done'\n",
      "  Created wheel for apyori: filename=apyori-1.1.2-py3-none-any.whl size=5979 sha256=eed59353f216dba82c69c5aa58463b8d8046d49aad5580a94cdb3c6c76329936\n",
      "  Stored in directory: c:\\users\\yuxia\\appdata\\local\\pip\\cache\\wheels\\1b\\02\\6c\\a45230be8603bd95c0a51cd2b289aefdd860c1a100eab73661\n",
      "Successfully built apyori\n",
      "Installing collected packages: apyori\n",
      "Successfully installed apyori-1.1.2\n"
     ]
    }
   ],
   "source": [
    "!pip install apyori"
   ]
  },
  {
   "cell_type": "code",
   "execution_count": 247,
   "metadata": {},
   "outputs": [],
   "source": [
    "import dask.dataframe as dd\n",
    "import pandas as pd\n",
    "import numpy as np\n",
    "from apyori import apriori"
   ]
  },
  {
   "cell_type": "code",
   "execution_count": 62,
   "metadata": {},
   "outputs": [],
   "source": [
    "deptinfo_dd = dd.read_csv('Dillards POS/deptinfo.csv',header=None)"
   ]
  },
  {
   "cell_type": "code",
   "execution_count": 63,
   "metadata": {},
   "outputs": [],
   "source": [
    "skstinfo_dd = dd.read_csv('Dillards POS/skstinfo.csv',header=None)"
   ]
  },
  {
   "cell_type": "code",
   "execution_count": 70,
   "metadata": {},
   "outputs": [],
   "source": [
    "strinfo_df = pd.read_csv('Dillards POS/strinfo.csv',header=None)\n",
    "strinfo_df=strinfo_df.iloc[:,:-1]\n",
    "\n",
    "strinfo_df_cols = ['STORE', 'CITY', 'STATE', 'ZIP']\n",
    "strinfo_df.columns=strinfo_df_cols"
   ]
  },
  {
   "cell_type": "code",
   "execution_count": 76,
   "metadata": {},
   "outputs": [
    {
     "data": {
      "text/html": [
       "<div>\n",
       "<style scoped>\n",
       "    .dataframe tbody tr th:only-of-type {\n",
       "        vertical-align: middle;\n",
       "    }\n",
       "\n",
       "    .dataframe tbody tr th {\n",
       "        vertical-align: top;\n",
       "    }\n",
       "\n",
       "    .dataframe thead th {\n",
       "        text-align: right;\n",
       "    }\n",
       "</style>\n",
       "<table border=\"1\" class=\"dataframe\">\n",
       "  <thead>\n",
       "    <tr style=\"text-align: right;\">\n",
       "      <th></th>\n",
       "      <th>STORE</th>\n",
       "      <th>CITY</th>\n",
       "      <th>STATE</th>\n",
       "      <th>ZIP</th>\n",
       "    </tr>\n",
       "  </thead>\n",
       "  <tbody>\n",
       "    <tr>\n",
       "      <th>51</th>\n",
       "      <td>802</td>\n",
       "      <td>CLEARWATER</td>\n",
       "      <td>FL</td>\n",
       "      <td>33761</td>\n",
       "    </tr>\n",
       "  </tbody>\n",
       "</table>\n",
       "</div>"
      ],
      "text/plain": [
       "    STORE                  CITY STATE    ZIP\n",
       "51    802  CLEARWATER              FL  33761"
      ]
     },
     "execution_count": 76,
     "metadata": {},
     "output_type": "execute_result"
    }
   ],
   "source": [
    "strinfo_df[strinfo_df['STORE'] == 802]"
   ]
  },
  {
   "cell_type": "code",
   "execution_count": 117,
   "metadata": {},
   "outputs": [],
   "source": [
    "transact_cols = ['SKU', 'STORE', 'REGISTER', 'TRANNUM', 'SEQ','SALEDATE', 'STYPE', 'QUANTITY', 'ORGPRICE','TRANSAC_PRICE', 'AMT','INTERID','MIC']\n",
    "trnsact_dd = dd.read_csv('Dillards POS/trnsact.csv', header=None)\n",
    "trnsact_dd=trnsact_dd.iloc[:,:-1]\n",
    "trnsact_dd.columns=transact_cols"
   ]
  },
  {
   "cell_type": "code",
   "execution_count": 389,
   "metadata": {},
   "outputs": [
    {
     "data": {
      "text/plain": [
       "'2004-08-01'"
      ]
     },
     "execution_count": 389,
     "metadata": {},
     "output_type": "execute_result"
    }
   ],
   "source": [
    "trnsact_dd['SALEDATE'].min().compute()"
   ]
  },
  {
   "cell_type": "code",
   "execution_count": 85,
   "metadata": {},
   "outputs": [
    {
     "data": {
      "text/plain": [
       "'2005-08-27'"
      ]
     },
     "execution_count": 85,
     "metadata": {},
     "output_type": "execute_result"
    }
   ],
   "source": [
    "trnsact_dd['SALEDATE'].max().compute()"
   ]
  },
  {
   "cell_type": "code",
   "execution_count": 125,
   "metadata": {},
   "outputs": [],
   "source": [
    "trnsact_dd_used = trnsact_dd[trnsact_dd['STYPE'] == 'P']"
   ]
  },
  {
   "cell_type": "code",
   "execution_count": 126,
   "metadata": {},
   "outputs": [
    {
     "data": {
      "text/plain": [
       "111649094"
      ]
     },
     "execution_count": 126,
     "metadata": {},
     "output_type": "execute_result"
    }
   ],
   "source": [
    "trnsact_dd_used.shape[0].compute()"
   ]
  },
  {
   "cell_type": "code",
   "execution_count": 96,
   "metadata": {},
   "outputs": [
    {
     "data": {
      "text/plain": [
       "120916896"
      ]
     },
     "execution_count": 96,
     "metadata": {},
     "output_type": "execute_result"
    }
   ],
   "source": [
    "trnsact_dd.shape[0].compute()"
   ]
  },
  {
   "cell_type": "markdown",
   "metadata": {},
   "source": [
    "date insight\n",
    "R or P insight"
   ]
  },
  {
   "cell_type": "code",
   "execution_count": 98,
   "metadata": {},
   "outputs": [],
   "source": [
    "trnsact_dd_rand=trnsact_dd.sample(frac=0.01) "
   ]
  },
  {
   "cell_type": "code",
   "execution_count": 100,
   "metadata": {},
   "outputs": [
    {
     "data": {
      "text/plain": [
       "1209174"
      ]
     },
     "execution_count": 100,
     "metadata": {},
     "output_type": "execute_result"
    }
   ],
   "source": [
    "trnsact_dd_rand.shape[0].compute()"
   ]
  },
  {
   "cell_type": "code",
   "execution_count": 119,
   "metadata": {},
   "outputs": [
    {
     "data": {
      "text/html": [
       "<div><strong>Dask DataFrame Structure:</strong></div>\n",
       "<div>\n",
       "<style scoped>\n",
       "    .dataframe tbody tr th:only-of-type {\n",
       "        vertical-align: middle;\n",
       "    }\n",
       "\n",
       "    .dataframe tbody tr th {\n",
       "        vertical-align: top;\n",
       "    }\n",
       "\n",
       "    .dataframe thead th {\n",
       "        text-align: right;\n",
       "    }\n",
       "</style>\n",
       "<table border=\"1\" class=\"dataframe\">\n",
       "  <thead>\n",
       "    <tr style=\"text-align: right;\">\n",
       "      <th></th>\n",
       "      <th>SKU</th>\n",
       "      <th>STORE</th>\n",
       "      <th>notsure</th>\n",
       "      <th>REGISTER</th>\n",
       "      <th>TRANNIUM</th>\n",
       "      <th>SALEDATE</th>\n",
       "      <th>SEQ</th>\n",
       "      <th>INTERID</th>\n",
       "      <th>STYPE</th>\n",
       "      <th>QUANTITY</th>\n",
       "      <th>ORGPRICE</th>\n",
       "      <th>AMT</th>\n",
       "      <th>MIC</th>\n",
       "      <th>notsure2</th>\n",
       "    </tr>\n",
       "    <tr>\n",
       "      <th>npartitions=178</th>\n",
       "      <th></th>\n",
       "      <th></th>\n",
       "      <th></th>\n",
       "      <th></th>\n",
       "      <th></th>\n",
       "      <th></th>\n",
       "      <th></th>\n",
       "      <th></th>\n",
       "      <th></th>\n",
       "      <th></th>\n",
       "      <th></th>\n",
       "      <th></th>\n",
       "      <th></th>\n",
       "      <th></th>\n",
       "    </tr>\n",
       "  </thead>\n",
       "  <tbody>\n",
       "    <tr>\n",
       "      <th></th>\n",
       "      <td>int64</td>\n",
       "      <td>int64</td>\n",
       "      <td>int64</td>\n",
       "      <td>int64</td>\n",
       "      <td>int64</td>\n",
       "      <td>object</td>\n",
       "      <td>object</td>\n",
       "      <td>int64</td>\n",
       "      <td>float64</td>\n",
       "      <td>float64</td>\n",
       "      <td>float64</td>\n",
       "      <td>int64</td>\n",
       "      <td>int64</td>\n",
       "      <td>int64</td>\n",
       "    </tr>\n",
       "    <tr>\n",
       "      <th></th>\n",
       "      <td>...</td>\n",
       "      <td>...</td>\n",
       "      <td>...</td>\n",
       "      <td>...</td>\n",
       "      <td>...</td>\n",
       "      <td>...</td>\n",
       "      <td>...</td>\n",
       "      <td>...</td>\n",
       "      <td>...</td>\n",
       "      <td>...</td>\n",
       "      <td>...</td>\n",
       "      <td>...</td>\n",
       "      <td>...</td>\n",
       "      <td>...</td>\n",
       "    </tr>\n",
       "    <tr>\n",
       "      <th>...</th>\n",
       "      <td>...</td>\n",
       "      <td>...</td>\n",
       "      <td>...</td>\n",
       "      <td>...</td>\n",
       "      <td>...</td>\n",
       "      <td>...</td>\n",
       "      <td>...</td>\n",
       "      <td>...</td>\n",
       "      <td>...</td>\n",
       "      <td>...</td>\n",
       "      <td>...</td>\n",
       "      <td>...</td>\n",
       "      <td>...</td>\n",
       "      <td>...</td>\n",
       "    </tr>\n",
       "    <tr>\n",
       "      <th></th>\n",
       "      <td>...</td>\n",
       "      <td>...</td>\n",
       "      <td>...</td>\n",
       "      <td>...</td>\n",
       "      <td>...</td>\n",
       "      <td>...</td>\n",
       "      <td>...</td>\n",
       "      <td>...</td>\n",
       "      <td>...</td>\n",
       "      <td>...</td>\n",
       "      <td>...</td>\n",
       "      <td>...</td>\n",
       "      <td>...</td>\n",
       "      <td>...</td>\n",
       "    </tr>\n",
       "    <tr>\n",
       "      <th></th>\n",
       "      <td>...</td>\n",
       "      <td>...</td>\n",
       "      <td>...</td>\n",
       "      <td>...</td>\n",
       "      <td>...</td>\n",
       "      <td>...</td>\n",
       "      <td>...</td>\n",
       "      <td>...</td>\n",
       "      <td>...</td>\n",
       "      <td>...</td>\n",
       "      <td>...</td>\n",
       "      <td>...</td>\n",
       "      <td>...</td>\n",
       "      <td>...</td>\n",
       "    </tr>\n",
       "  </tbody>\n",
       "</table>\n",
       "</div>\n",
       "<div>Dask Name: sample, 534 tasks</div>"
      ],
      "text/plain": [
       "Dask DataFrame Structure:\n",
       "                   SKU  STORE notsure REGISTER TRANNIUM SALEDATE     SEQ INTERID    STYPE QUANTITY ORGPRICE    AMT    MIC notsure2\n",
       "npartitions=178                                                                                                                   \n",
       "                 int64  int64   int64    int64    int64   object  object   int64  float64  float64  float64  int64  int64    int64\n",
       "                   ...    ...     ...      ...      ...      ...     ...     ...      ...      ...      ...    ...    ...      ...\n",
       "...                ...    ...     ...      ...      ...      ...     ...     ...      ...      ...      ...    ...    ...      ...\n",
       "                   ...    ...     ...      ...      ...      ...     ...     ...      ...      ...      ...    ...    ...      ...\n",
       "                   ...    ...     ...      ...      ...      ...     ...     ...      ...      ...      ...    ...    ...      ...\n",
       "Dask Name: sample, 534 tasks"
      ]
     },
     "execution_count": 119,
     "metadata": {},
     "output_type": "execute_result"
    }
   ],
   "source": [
    "trnsact_dd_rand"
   ]
  },
  {
   "cell_type": "code",
   "execution_count": 118,
   "metadata": {},
   "outputs": [
    {
     "data": {
      "text/html": [
       "<div>\n",
       "<style scoped>\n",
       "    .dataframe tbody tr th:only-of-type {\n",
       "        vertical-align: middle;\n",
       "    }\n",
       "\n",
       "    .dataframe tbody tr th {\n",
       "        vertical-align: top;\n",
       "    }\n",
       "\n",
       "    .dataframe thead th {\n",
       "        text-align: right;\n",
       "    }\n",
       "</style>\n",
       "<table border=\"1\" class=\"dataframe\">\n",
       "  <thead>\n",
       "    <tr style=\"text-align: right;\">\n",
       "      <th></th>\n",
       "      <th>SKU</th>\n",
       "      <th>STORE</th>\n",
       "      <th>REGISTER</th>\n",
       "      <th>TRANNUM</th>\n",
       "      <th>SEQ</th>\n",
       "      <th>SALEDATE</th>\n",
       "      <th>STYPE</th>\n",
       "      <th>QUANTITY</th>\n",
       "      <th>ORGPRICE</th>\n",
       "      <th>TRANSAC_PRICE</th>\n",
       "      <th>AMT</th>\n",
       "      <th>INTERID</th>\n",
       "      <th>MIC</th>\n",
       "    </tr>\n",
       "  </thead>\n",
       "  <tbody>\n",
       "    <tr>\n",
       "      <th>401581</th>\n",
       "      <td>9999997</td>\n",
       "      <td>7507</td>\n",
       "      <td>750</td>\n",
       "      <td>2800</td>\n",
       "      <td>0</td>\n",
       "      <td>2005-04-23</td>\n",
       "      <td>P</td>\n",
       "      <td>1</td>\n",
       "      <td>39.0</td>\n",
       "      <td>39.00</td>\n",
       "      <td>39.00</td>\n",
       "      <td>593900116</td>\n",
       "      <td>395</td>\n",
       "    </tr>\n",
       "    <tr>\n",
       "      <th>401582</th>\n",
       "      <td>9999997</td>\n",
       "      <td>7907</td>\n",
       "      <td>790</td>\n",
       "      <td>3200</td>\n",
       "      <td>0</td>\n",
       "      <td>2005-05-03</td>\n",
       "      <td>P</td>\n",
       "      <td>1</td>\n",
       "      <td>39.0</td>\n",
       "      <td>39.00</td>\n",
       "      <td>39.00</td>\n",
       "      <td>502600061</td>\n",
       "      <td>395</td>\n",
       "    </tr>\n",
       "    <tr>\n",
       "      <th>401583</th>\n",
       "      <td>9999997</td>\n",
       "      <td>7907</td>\n",
       "      <td>800</td>\n",
       "      <td>700</td>\n",
       "      <td>0</td>\n",
       "      <td>2005-05-04</td>\n",
       "      <td>R</td>\n",
       "      <td>1</td>\n",
       "      <td>39.0</td>\n",
       "      <td>39.00</td>\n",
       "      <td>39.00</td>\n",
       "      <td>600900066</td>\n",
       "      <td>395</td>\n",
       "    </tr>\n",
       "    <tr>\n",
       "      <th>401584</th>\n",
       "      <td>9999997</td>\n",
       "      <td>7907</td>\n",
       "      <td>800</td>\n",
       "      <td>700</td>\n",
       "      <td>0</td>\n",
       "      <td>2005-05-04</td>\n",
       "      <td>P</td>\n",
       "      <td>1</td>\n",
       "      <td>39.0</td>\n",
       "      <td>39.00</td>\n",
       "      <td>39.00</td>\n",
       "      <td>601000066</td>\n",
       "      <td>395</td>\n",
       "    </tr>\n",
       "    <tr>\n",
       "      <th>401585</th>\n",
       "      <td>9999997</td>\n",
       "      <td>7907</td>\n",
       "      <td>800</td>\n",
       "      <td>4100</td>\n",
       "      <td>257808914</td>\n",
       "      <td>2005-07-31</td>\n",
       "      <td>P</td>\n",
       "      <td>1</td>\n",
       "      <td>39.0</td>\n",
       "      <td>26.13</td>\n",
       "      <td>26.13</td>\n",
       "      <td>658600082</td>\n",
       "      <td>395</td>\n",
       "    </tr>\n",
       "  </tbody>\n",
       "</table>\n",
       "</div>"
      ],
      "text/plain": [
       "            SKU  STORE  REGISTER  TRANNUM        SEQ    SALEDATE STYPE  \\\n",
       "401581  9999997   7507       750     2800          0  2005-04-23     P   \n",
       "401582  9999997   7907       790     3200          0  2005-05-03     P   \n",
       "401583  9999997   7907       800      700          0  2005-05-04     R   \n",
       "401584  9999997   7907       800      700          0  2005-05-04     P   \n",
       "401585  9999997   7907       800     4100  257808914  2005-07-31     P   \n",
       "\n",
       "        QUANTITY  ORGPRICE  TRANSAC_PRICE    AMT    INTERID  MIC  \n",
       "401581         1      39.0          39.00  39.00  593900116  395  \n",
       "401582         1      39.0          39.00  39.00  502600061  395  \n",
       "401583         1      39.0          39.00  39.00  600900066  395  \n",
       "401584         1      39.0          39.00  39.00  601000066  395  \n",
       "401585         1      39.0          26.13  26.13  658600082  395  "
      ]
     },
     "execution_count": 118,
     "metadata": {},
     "output_type": "execute_result"
    }
   ],
   "source": [
    "trnsact_dd.tail()"
   ]
  },
  {
   "cell_type": "code",
   "execution_count": 131,
   "metadata": {},
   "outputs": [
    {
     "data": {
      "text/plain": [
       "5804"
      ]
     },
     "execution_count": 131,
     "metadata": {},
     "output_type": "execute_result"
    }
   ],
   "source": [
    "len(trnsact_dd['TRANNUM'].unique())"
   ]
  },
  {
   "cell_type": "code",
   "execution_count": 132,
   "metadata": {},
   "outputs": [
    {
     "data": {
      "text/plain": [
       "332"
      ]
     },
     "execution_count": 132,
     "metadata": {},
     "output_type": "execute_result"
    }
   ],
   "source": [
    "len(trnsact_dd['STORE'].unique())"
   ]
  },
  {
   "cell_type": "code",
   "execution_count": 133,
   "metadata": {},
   "outputs": [
    {
     "data": {
      "text/plain": [
       "300"
      ]
     },
     "execution_count": 133,
     "metadata": {},
     "output_type": "execute_result"
    }
   ],
   "source": [
    "len(trnsact_dd['REGISTER'].unique())"
   ]
  },
  {
   "cell_type": "code",
   "execution_count": 134,
   "metadata": {},
   "outputs": [
    {
     "data": {
      "text/plain": [
       "882"
      ]
     },
     "execution_count": 134,
     "metadata": {},
     "output_type": "execute_result"
    }
   ],
   "source": [
    "len(trnsact_dd['MIC'].unique())"
   ]
  },
  {
   "cell_type": "code",
   "execution_count": 388,
   "metadata": {},
   "outputs": [
    {
     "data": {
      "text/plain": [
       "714499"
      ]
     },
     "execution_count": 388,
     "metadata": {},
     "output_type": "execute_result"
    }
   ],
   "source": [
    "len(trnsact_dd['SKU'].unique())"
   ]
  },
  {
   "cell_type": "code",
   "execution_count": null,
   "metadata": {},
   "outputs": [],
   "source": []
  },
  {
   "cell_type": "code",
   "execution_count": 138,
   "metadata": {},
   "outputs": [
    {
     "data": {
      "text/plain": [
       "213634"
      ]
     },
     "execution_count": 138,
     "metadata": {},
     "output_type": "execute_result"
    }
   ],
   "source": [
    "trnsact_dd.drop_duplicates(['TRANNUM','STORE']).shape[0].compute()"
   ]
  },
  {
   "cell_type": "code",
   "execution_count": 139,
   "metadata": {},
   "outputs": [],
   "source": [
    "one_day_samples = trnsact_dd[trnsact_dd['SALEDATE'] == '2005-05-04']"
   ]
  },
  {
   "cell_type": "code",
   "execution_count": 141,
   "metadata": {},
   "outputs": [
    {
     "data": {
      "text/html": [
       "<div>\n",
       "<style scoped>\n",
       "    .dataframe tbody tr th:only-of-type {\n",
       "        vertical-align: middle;\n",
       "    }\n",
       "\n",
       "    .dataframe tbody tr th {\n",
       "        vertical-align: top;\n",
       "    }\n",
       "\n",
       "    .dataframe thead th {\n",
       "        text-align: right;\n",
       "    }\n",
       "</style>\n",
       "<table border=\"1\" class=\"dataframe\">\n",
       "  <thead>\n",
       "    <tr style=\"text-align: right;\">\n",
       "      <th></th>\n",
       "      <th>SKU</th>\n",
       "      <th>STORE</th>\n",
       "      <th>REGISTER</th>\n",
       "      <th>TRANNUM</th>\n",
       "      <th>SEQ</th>\n",
       "      <th>SALEDATE</th>\n",
       "      <th>STYPE</th>\n",
       "      <th>QUANTITY</th>\n",
       "      <th>ORGPRICE</th>\n",
       "      <th>TRANSAC_PRICE</th>\n",
       "      <th>AMT</th>\n",
       "      <th>INTERID</th>\n",
       "      <th>MIC</th>\n",
       "    </tr>\n",
       "  </thead>\n",
       "  <tbody>\n",
       "    <tr>\n",
       "      <th>1525</th>\n",
       "      <td>387</td>\n",
       "      <td>8004</td>\n",
       "      <td>380</td>\n",
       "      <td>1000</td>\n",
       "      <td>0</td>\n",
       "      <td>2005-05-04</td>\n",
       "      <td>P</td>\n",
       "      <td>1</td>\n",
       "      <td>79.00</td>\n",
       "      <td>79.00</td>\n",
       "      <td>79.00</td>\n",
       "      <td>395900005</td>\n",
       "      <td>696</td>\n",
       "    </tr>\n",
       "    <tr>\n",
       "      <th>4501</th>\n",
       "      <td>788</td>\n",
       "      <td>5402</td>\n",
       "      <td>580</td>\n",
       "      <td>2500</td>\n",
       "      <td>659009310</td>\n",
       "      <td>2005-05-04</td>\n",
       "      <td>P</td>\n",
       "      <td>1</td>\n",
       "      <td>18.00</td>\n",
       "      <td>18.00</td>\n",
       "      <td>18.00</td>\n",
       "      <td>637100006</td>\n",
       "      <td>950</td>\n",
       "    </tr>\n",
       "    <tr>\n",
       "      <th>6766</th>\n",
       "      <td>1634</td>\n",
       "      <td>5503</td>\n",
       "      <td>370</td>\n",
       "      <td>1900</td>\n",
       "      <td>0</td>\n",
       "      <td>2005-05-04</td>\n",
       "      <td>P</td>\n",
       "      <td>1</td>\n",
       "      <td>60.00</td>\n",
       "      <td>60.00</td>\n",
       "      <td>60.00</td>\n",
       "      <td>917400008</td>\n",
       "      <td>2</td>\n",
       "    </tr>\n",
       "    <tr>\n",
       "      <th>7700</th>\n",
       "      <td>2062</td>\n",
       "      <td>809</td>\n",
       "      <td>590</td>\n",
       "      <td>1900</td>\n",
       "      <td>0</td>\n",
       "      <td>2005-05-04</td>\n",
       "      <td>P</td>\n",
       "      <td>1</td>\n",
       "      <td>21.50</td>\n",
       "      <td>21.50</td>\n",
       "      <td>21.50</td>\n",
       "      <td>878800009</td>\n",
       "      <td>643</td>\n",
       "    </tr>\n",
       "    <tr>\n",
       "      <th>7833</th>\n",
       "      <td>2186</td>\n",
       "      <td>1304</td>\n",
       "      <td>540</td>\n",
       "      <td>200</td>\n",
       "      <td>0</td>\n",
       "      <td>2005-05-04</td>\n",
       "      <td>P</td>\n",
       "      <td>1</td>\n",
       "      <td>23.75</td>\n",
       "      <td>23.75</td>\n",
       "      <td>23.75</td>\n",
       "      <td>127900010</td>\n",
       "      <td>532</td>\n",
       "    </tr>\n",
       "  </tbody>\n",
       "</table>\n",
       "</div>"
      ],
      "text/plain": [
       "       SKU  STORE  REGISTER  TRANNUM        SEQ    SALEDATE STYPE  QUANTITY  \\\n",
       "1525   387   8004       380     1000          0  2005-05-04     P         1   \n",
       "4501   788   5402       580     2500  659009310  2005-05-04     P         1   \n",
       "6766  1634   5503       370     1900          0  2005-05-04     P         1   \n",
       "7700  2062    809       590     1900          0  2005-05-04     P         1   \n",
       "7833  2186   1304       540      200          0  2005-05-04     P         1   \n",
       "\n",
       "      ORGPRICE  TRANSAC_PRICE    AMT    INTERID  MIC  \n",
       "1525     79.00          79.00  79.00  395900005  696  \n",
       "4501     18.00          18.00  18.00  637100006  950  \n",
       "6766     60.00          60.00  60.00  917400008    2  \n",
       "7700     21.50          21.50  21.50  878800009  643  \n",
       "7833     23.75          23.75  23.75  127900010  532  "
      ]
     },
     "execution_count": 141,
     "metadata": {},
     "output_type": "execute_result"
    }
   ],
   "source": [
    "one_day_samples.head()"
   ]
  },
  {
   "cell_type": "code",
   "execution_count": 143,
   "metadata": {},
   "outputs": [
    {
     "data": {
      "text/plain": [
       "9991819"
      ]
     },
     "execution_count": 143,
     "metadata": {},
     "output_type": "execute_result"
    }
   ],
   "source": [
    "trnsact_dd_used.drop_duplicates(['TRANNUM','STORE','SALEDATE']).shape[0].compute()"
   ]
  },
  {
   "cell_type": "code",
   "execution_count": 144,
   "metadata": {},
   "outputs": [
    {
     "data": {
      "text/plain": [
       "58882717"
      ]
     },
     "execution_count": 144,
     "metadata": {},
     "output_type": "execute_result"
    }
   ],
   "source": [
    "trnsact_dd_used.drop_duplicates(['STORE','REGISTER','TRANNUM','SALEDATE']).shape[0].compute()"
   ]
  },
  {
   "cell_type": "code",
   "execution_count": 145,
   "metadata": {},
   "outputs": [
    {
     "data": {
      "text/plain": [
       "6074157"
      ]
     },
     "execution_count": 145,
     "metadata": {},
     "output_type": "execute_result"
    }
   ],
   "source": [
    "trnsact_dd_used.drop_duplicates(['STORE','REGISTER','SALEDATE']).shape[0].compute()"
   ]
  },
  {
   "cell_type": "code",
   "execution_count": null,
   "metadata": {},
   "outputs": [],
   "source": []
  },
  {
   "cell_type": "code",
   "execution_count": 173,
   "metadata": {},
   "outputs": [],
   "source": [
    "association_used_cols = ['TRANNUM','STORE','SALEDATE', 'SKU']"
   ]
  },
  {
   "cell_type": "code",
   "execution_count": 174,
   "metadata": {},
   "outputs": [],
   "source": [
    "trnsact_dd_used=trnsact_dd_used[association_used_cols]"
   ]
  },
  {
   "cell_type": "code",
   "execution_count": 177,
   "metadata": {},
   "outputs": [],
   "source": [
    "trnsact_dd_used = trnsact_dd_used.drop_duplicates(association_used_cols)"
   ]
  },
  {
   "cell_type": "code",
   "execution_count": 179,
   "metadata": {},
   "outputs": [],
   "source": [
    "trnsact_pd_used = trnsact_dd_used.compute()"
   ]
  },
  {
   "cell_type": "code",
   "execution_count": 180,
   "metadata": {},
   "outputs": [],
   "source": [
    "trnsact_pd_used.to_csv('trnsact_pd_used.csv')"
   ]
  },
  {
   "cell_type": "code",
   "execution_count": 182,
   "metadata": {},
   "outputs": [],
   "source": [
    "transact_id_cols = ['TRANNUM','STORE','SALEDATE']"
   ]
  },
  {
   "cell_type": "code",
   "execution_count": 183,
   "metadata": {},
   "outputs": [],
   "source": [
    "transact_group = trnsact_pd_used.groupby(transact_id_cols)"
   ]
  },
  {
   "cell_type": "code",
   "execution_count": 185,
   "metadata": {},
   "outputs": [],
   "source": [
    "group_index_array=np.arange(transact_group.ngroups)"
   ]
  },
  {
   "cell_type": "code",
   "execution_count": 194,
   "metadata": {},
   "outputs": [],
   "source": [
    "np.random.seed(10)\n",
    "np.random.shuffle(group_index_array)\n",
    "sample_n = int((transact_group.ngroups+1)/100)"
   ]
  },
  {
   "cell_type": "code",
   "execution_count": 195,
   "metadata": {},
   "outputs": [
    {
     "data": {
      "text/plain": [
       "99918"
      ]
     },
     "execution_count": 195,
     "metadata": {},
     "output_type": "execute_result"
    }
   ],
   "source": [
    "sample_n"
   ]
  },
  {
   "cell_type": "code",
   "execution_count": 196,
   "metadata": {},
   "outputs": [],
   "source": [
    "trnsact_pd_sampled = trnsact_pd_used[transact_group.ngroup().isin(group_index_array[:(sample_n)])]"
   ]
  },
  {
   "cell_type": "code",
   "execution_count": 197,
   "metadata": {},
   "outputs": [
    {
     "data": {
      "text/plain": [
       "103666451"
      ]
     },
     "execution_count": 197,
     "metadata": {},
     "output_type": "execute_result"
    }
   ],
   "source": [
    "trnsact_pd_used.shape[0]"
   ]
  },
  {
   "cell_type": "code",
   "execution_count": 198,
   "metadata": {},
   "outputs": [
    {
     "data": {
      "text/plain": [
       "1032318"
      ]
     },
     "execution_count": 198,
     "metadata": {},
     "output_type": "execute_result"
    }
   ],
   "source": [
    "trnsact_pd_sampled.shape[0]"
   ]
  },
  {
   "cell_type": "code",
   "execution_count": 199,
   "metadata": {},
   "outputs": [],
   "source": [
    "trnsact_pd_sampled.to_csv('trnsact_pd_sampled.csv')"
   ]
  },
  {
   "cell_type": "code",
   "execution_count": 200,
   "metadata": {},
   "outputs": [
    {
     "data": {
      "text/html": [
       "<div>\n",
       "<style scoped>\n",
       "    .dataframe tbody tr th:only-of-type {\n",
       "        vertical-align: middle;\n",
       "    }\n",
       "\n",
       "    .dataframe tbody tr th {\n",
       "        vertical-align: top;\n",
       "    }\n",
       "\n",
       "    .dataframe thead th {\n",
       "        text-align: right;\n",
       "    }\n",
       "</style>\n",
       "<table border=\"1\" class=\"dataframe\">\n",
       "  <thead>\n",
       "    <tr style=\"text-align: right;\">\n",
       "      <th></th>\n",
       "      <th>TRANNUM</th>\n",
       "      <th>STORE</th>\n",
       "      <th>SALEDATE</th>\n",
       "      <th>SKU</th>\n",
       "    </tr>\n",
       "  </thead>\n",
       "  <tbody>\n",
       "    <tr>\n",
       "      <th>18</th>\n",
       "      <td>9800</td>\n",
       "      <td>2804</td>\n",
       "      <td>2005-04-23</td>\n",
       "      <td>3</td>\n",
       "    </tr>\n",
       "    <tr>\n",
       "      <th>315</th>\n",
       "      <td>2400</td>\n",
       "      <td>8507</td>\n",
       "      <td>2005-07-25</td>\n",
       "      <td>156</td>\n",
       "    </tr>\n",
       "    <tr>\n",
       "      <th>701</th>\n",
       "      <td>800</td>\n",
       "      <td>1207</td>\n",
       "      <td>2004-08-12</td>\n",
       "      <td>268</td>\n",
       "    </tr>\n",
       "    <tr>\n",
       "      <th>921</th>\n",
       "      <td>3900</td>\n",
       "      <td>3407</td>\n",
       "      <td>2005-08-05</td>\n",
       "      <td>348</td>\n",
       "    </tr>\n",
       "    <tr>\n",
       "      <th>1106</th>\n",
       "      <td>600</td>\n",
       "      <td>2202</td>\n",
       "      <td>2004-09-08</td>\n",
       "      <td>387</td>\n",
       "    </tr>\n",
       "    <tr>\n",
       "      <th>...</th>\n",
       "      <td>...</td>\n",
       "      <td>...</td>\n",
       "      <td>...</td>\n",
       "      <td>...</td>\n",
       "    </tr>\n",
       "    <tr>\n",
       "      <th>401117</th>\n",
       "      <td>7300</td>\n",
       "      <td>9402</td>\n",
       "      <td>2004-12-04</td>\n",
       "      <td>9999950</td>\n",
       "    </tr>\n",
       "    <tr>\n",
       "      <th>401231</th>\n",
       "      <td>4300</td>\n",
       "      <td>9503</td>\n",
       "      <td>2005-04-14</td>\n",
       "      <td>9999950</td>\n",
       "    </tr>\n",
       "    <tr>\n",
       "      <th>401254</th>\n",
       "      <td>8300</td>\n",
       "      <td>9504</td>\n",
       "      <td>2005-04-23</td>\n",
       "      <td>9999950</td>\n",
       "    </tr>\n",
       "    <tr>\n",
       "      <th>401354</th>\n",
       "      <td>1200</td>\n",
       "      <td>9704</td>\n",
       "      <td>2004-10-14</td>\n",
       "      <td>9999950</td>\n",
       "    </tr>\n",
       "    <tr>\n",
       "      <th>401510</th>\n",
       "      <td>10300</td>\n",
       "      <td>2707</td>\n",
       "      <td>2004-09-03</td>\n",
       "      <td>9999970</td>\n",
       "    </tr>\n",
       "  </tbody>\n",
       "</table>\n",
       "<p>1032318 rows × 4 columns</p>\n",
       "</div>"
      ],
      "text/plain": [
       "        TRANNUM  STORE    SALEDATE      SKU\n",
       "18         9800   2804  2005-04-23        3\n",
       "315        2400   8507  2005-07-25      156\n",
       "701         800   1207  2004-08-12      268\n",
       "921        3900   3407  2005-08-05      348\n",
       "1106        600   2202  2004-09-08      387\n",
       "...         ...    ...         ...      ...\n",
       "401117     7300   9402  2004-12-04  9999950\n",
       "401231     4300   9503  2005-04-14  9999950\n",
       "401254     8300   9504  2005-04-23  9999950\n",
       "401354     1200   9704  2004-10-14  9999950\n",
       "401510    10300   2707  2004-09-03  9999970\n",
       "\n",
       "[1032318 rows x 4 columns]"
      ]
     },
     "execution_count": 200,
     "metadata": {},
     "output_type": "execute_result"
    }
   ],
   "source": [
    "trnsact_pd_sampled"
   ]
  },
  {
   "cell_type": "code",
   "execution_count": 204,
   "metadata": {},
   "outputs": [],
   "source": [
    "trnsact_pd_sampled_grouped = trnsact_pd_sampled.groupby(transact_id_cols)"
   ]
  },
  {
   "cell_type": "code",
   "execution_count": 252,
   "metadata": {},
   "outputs": [],
   "source": [
    "trnsact_pd_sampled_dict = {}\n",
    "i = 0\n",
    "for name, group in trnsact_pd_sampled_grouped:\n",
    "    sub_dict = {}\n",
    "    for SKU in group['SKU']:\n",
    "        sub_dict[SKU] = True\n",
    "    trnsact_pd_sampled_dict[i] = sub_dict\n",
    "    i+=1"
   ]
  },
  {
   "cell_type": "code",
   "execution_count": 212,
   "metadata": {},
   "outputs": [],
   "source": [
    "n_transactions= trnsact_pd_sampled_grouped.ngroups"
   ]
  },
  {
   "cell_type": "code",
   "execution_count": null,
   "metadata": {},
   "outputs": [],
   "source": [
    "len(SKU_trans)"
   ]
  },
  {
   "cell_type": "code",
   "execution_count": null,
   "metadata": {},
   "outputs": [],
   "source": []
  },
  {
   "cell_type": "code",
   "execution_count": 235,
   "metadata": {},
   "outputs": [],
   "source": [
    "def support_count(SKU_list):\n",
    "    count = 0\n",
    "    for value in trnsact_pd_sampled_dict.values():\n",
    "        support = True\n",
    "        for SKU in SKU_list:\n",
    "            if SKU not in value.keys():\n",
    "                support = False\n",
    "                break\n",
    "        if support:\n",
    "            count+=1\n",
    "    return count\n",
    "\n",
    "def MIS(SKU_list, n_transactions):\n",
    "    return support_count(SKU_list)/n_transactions\n",
    "        \n",
    "        "
   ]
  },
  {
   "cell_type": "code",
   "execution_count": 236,
   "metadata": {},
   "outputs": [],
   "source": [
    "support_count_dict = {}"
   ]
  },
  {
   "cell_type": "code",
   "execution_count": 228,
   "metadata": {},
   "outputs": [],
   "source": [
    "SKU_count = trnsact_pd_sampled['SKU'].value_counts()"
   ]
  },
  {
   "cell_type": "code",
   "execution_count": 420,
   "metadata": {},
   "outputs": [],
   "source": [
    "SKU_considered = np.array(SKU_count[SKU_count>=10].index)"
   ]
  },
  {
   "cell_type": "code",
   "execution_count": 421,
   "metadata": {},
   "outputs": [
    {
     "data": {
      "text/plain": [
       "14790"
      ]
     },
     "execution_count": 421,
     "metadata": {},
     "output_type": "execute_result"
    }
   ],
   "source": [
    "len(SKU_considered)"
   ]
  },
  {
   "cell_type": "code",
   "execution_count": 370,
   "metadata": {},
   "outputs": [],
   "source": [
    "trnsact_pd_slelected_SKU_dict = {}\n",
    "i = 0\n",
    "for name, group in trnsact_pd_sampled_grouped:\n",
    "    sub_dict = {}\n",
    "    for SKU in group['SKU']:\n",
    "        if SKU in SKU_considered:\n",
    "            sub_dict[SKU] = True\n",
    "    trnsact_pd_slelected_SKU_dict[i] = sub_dict\n",
    "    i+=1"
   ]
  },
  {
   "cell_type": "code",
   "execution_count": 371,
   "metadata": {},
   "outputs": [],
   "source": [
    "SKU_trans = []\n",
    "for value in trnsact_pd_slelected_SKU_dict.values():\n",
    "    SKU_trans.append([str(i) for i in list(value.keys())])"
   ]
  },
  {
   "cell_type": "code",
   "execution_count": 417,
   "metadata": {},
   "outputs": [
    {
     "data": {
      "text/plain": [
       "99918"
      ]
     },
     "execution_count": 417,
     "metadata": {},
     "output_type": "execute_result"
    }
   ],
   "source": [
    "len(SKU_trans)\n"
   ]
  },
  {
   "cell_type": "code",
   "execution_count": 401,
   "metadata": {},
   "outputs": [],
   "source": [
    "association_rules = apriori(SKU_trans, min_support=0.0001, min_confidence=0.1, min_lift=4, min_length=2)"
   ]
  },
  {
   "cell_type": "code",
   "execution_count": 374,
   "metadata": {},
   "outputs": [],
   "source": [
    "association_results_list = list(association_rules)"
   ]
  },
  {
   "cell_type": "code",
   "execution_count": 375,
   "metadata": {},
   "outputs": [
    {
     "data": {
      "text/plain": [
       "1665"
      ]
     },
     "execution_count": 375,
     "metadata": {},
     "output_type": "execute_result"
    }
   ],
   "source": [
    "len(association_results_list)"
   ]
  },
  {
   "cell_type": "code",
   "execution_count": 380,
   "metadata": {},
   "outputs": [],
   "source": [
    "association_rules_dict = {}\n",
    "index = 1\n",
    "for item in association_results_list:\n",
    "    \n",
    "    result_array = [set(item[2][0][0]), set(item[2][0][1]), item[1], item[2][0][2], item[2][0][3]]\n",
    "    association_rules_dict[index] = result_array\n",
    "    index += 1\n",
    "association_rules_df = pd.DataFrame.from_dict(association_rules_dict, orient='index',\n",
    "                                              columns = ['Base SKU(s)','Assoc SKU(s)', 'Support', 'Confidence', 'Lift'])\n",
    "        "
   ]
  },
  {
   "cell_type": "code",
   "execution_count": 381,
   "metadata": {},
   "outputs": [],
   "source": [
    "association_rules_df = association_rules_df.sort_values('Lift', ascending = False)"
   ]
  },
  {
   "cell_type": "code",
   "execution_count": 382,
   "metadata": {},
   "outputs": [],
   "source": [
    "new_index = np.arange(1,association_rules_df.shape[0]+1)\n",
    "association_rules_df = association_rules_df.set_index(new_index)"
   ]
  },
  {
   "cell_type": "code",
   "execution_count": 383,
   "metadata": {},
   "outputs": [
    {
     "name": "stdout",
     "output_type": "stream",
     "text": [
      "Cut row index: 135\n",
      "101\n"
     ]
    }
   ],
   "source": [
    "SKUs_involved = set()\n",
    "for index, rows in association_rules_df.iterrows():\n",
    "    SKUs = list(rows['Base SKU(s)']) + list(rows['Base SKU(s)'])\n",
    "    for SKU in SKUs:\n",
    "        if SKU not in SKUs_involved:\n",
    "            SKUs_involved.add(SKU)\n",
    "    if len(SKUs_involved) > 100:\n",
    "        print('Cut row index:', index)\n",
    "        print(len(SKUs_involved))\n",
    "        break"
   ]
  },
  {
   "cell_type": "code",
   "execution_count": 397,
   "metadata": {},
   "outputs": [],
   "source": [
    "pd.DataFrame(list(SKUs_involved), columns = ['SKU']).to_excel('100SKUs_recommended.xlsx')"
   ]
  },
  {
   "cell_type": "code",
   "execution_count": 384,
   "metadata": {},
   "outputs": [],
   "source": [
    "association_rules_df.to_excel('association_rules_df_2.xlsx')"
   ]
  },
  {
   "cell_type": "code",
   "execution_count": 387,
   "metadata": {},
   "outputs": [
    {
     "data": {
      "text/html": [
       "<div>\n",
       "<style scoped>\n",
       "    .dataframe tbody tr th:only-of-type {\n",
       "        vertical-align: middle;\n",
       "    }\n",
       "\n",
       "    .dataframe tbody tr th {\n",
       "        vertical-align: top;\n",
       "    }\n",
       "\n",
       "    .dataframe thead th {\n",
       "        text-align: right;\n",
       "    }\n",
       "</style>\n",
       "<table border=\"1\" class=\"dataframe\">\n",
       "  <thead>\n",
       "    <tr style=\"text-align: right;\">\n",
       "      <th></th>\n",
       "      <th>Base SKU(s)</th>\n",
       "      <th>Assoc SKU(s)</th>\n",
       "      <th>Support</th>\n",
       "      <th>Confidence</th>\n",
       "      <th>Lift</th>\n",
       "    </tr>\n",
       "  </thead>\n",
       "  <tbody>\n",
       "    <tr>\n",
       "      <th>1</th>\n",
       "      <td>{2169772}</td>\n",
       "      <td>{4599772}</td>\n",
       "      <td>0.00010</td>\n",
       "      <td>1.000000</td>\n",
       "      <td>7686.000000</td>\n",
       "    </tr>\n",
       "    <tr>\n",
       "      <th>2</th>\n",
       "      <td>{2009772}</td>\n",
       "      <td>{4569772}</td>\n",
       "      <td>0.00010</td>\n",
       "      <td>0.769231</td>\n",
       "      <td>6405.000000</td>\n",
       "    </tr>\n",
       "    <tr>\n",
       "      <th>3</th>\n",
       "      <td>{2068302}</td>\n",
       "      <td>{2548302, 3198302}</td>\n",
       "      <td>0.00011</td>\n",
       "      <td>0.647059</td>\n",
       "      <td>5877.529412</td>\n",
       "    </tr>\n",
       "    <tr>\n",
       "      <th>4</th>\n",
       "      <td>{2541752}</td>\n",
       "      <td>{3181752, 9439904}</td>\n",
       "      <td>0.00012</td>\n",
       "      <td>0.750000</td>\n",
       "      <td>5764.500000</td>\n",
       "    </tr>\n",
       "    <tr>\n",
       "      <th>5</th>\n",
       "      <td>{687171}</td>\n",
       "      <td>{797171}</td>\n",
       "      <td>0.00011</td>\n",
       "      <td>0.687500</td>\n",
       "      <td>5724.468750</td>\n",
       "    </tr>\n",
       "    <tr>\n",
       "      <th>...</th>\n",
       "      <td>...</td>\n",
       "      <td>...</td>\n",
       "      <td>...</td>\n",
       "      <td>...</td>\n",
       "      <td>...</td>\n",
       "    </tr>\n",
       "    <tr>\n",
       "      <th>1661</th>\n",
       "      <td>{8010668}</td>\n",
       "      <td>{4628597}</td>\n",
       "      <td>0.00014</td>\n",
       "      <td>0.138614</td>\n",
       "      <td>4.030856</td>\n",
       "    </tr>\n",
       "    <tr>\n",
       "      <th>1662</th>\n",
       "      <td>{2808964}</td>\n",
       "      <td>{4628597}</td>\n",
       "      <td>0.00012</td>\n",
       "      <td>0.137931</td>\n",
       "      <td>4.010999</td>\n",
       "    </tr>\n",
       "    <tr>\n",
       "      <th>1663</th>\n",
       "      <td>{539951}</td>\n",
       "      <td>{4628597}</td>\n",
       "      <td>0.00020</td>\n",
       "      <td>0.137931</td>\n",
       "      <td>4.010999</td>\n",
       "    </tr>\n",
       "    <tr>\n",
       "      <th>1664</th>\n",
       "      <td>{1589751}</td>\n",
       "      <td>{4628597}</td>\n",
       "      <td>0.00012</td>\n",
       "      <td>0.137931</td>\n",
       "      <td>4.010999</td>\n",
       "    </tr>\n",
       "    <tr>\n",
       "      <th>1665</th>\n",
       "      <td>{4108011, 803921}</td>\n",
       "      <td>{4628597}</td>\n",
       "      <td>0.00015</td>\n",
       "      <td>0.137615</td>\n",
       "      <td>4.001800</td>\n",
       "    </tr>\n",
       "  </tbody>\n",
       "</table>\n",
       "<p>1665 rows × 5 columns</p>\n",
       "</div>"
      ],
      "text/plain": [
       "            Base SKU(s)        Assoc SKU(s)  Support  Confidence         Lift\n",
       "1             {2169772}           {4599772}  0.00010    1.000000  7686.000000\n",
       "2             {2009772}           {4569772}  0.00010    0.769231  6405.000000\n",
       "3             {2068302}  {2548302, 3198302}  0.00011    0.647059  5877.529412\n",
       "4             {2541752}  {3181752, 9439904}  0.00012    0.750000  5764.500000\n",
       "5              {687171}            {797171}  0.00011    0.687500  5724.468750\n",
       "...                 ...                 ...      ...         ...          ...\n",
       "1661          {8010668}           {4628597}  0.00014    0.138614     4.030856\n",
       "1662          {2808964}           {4628597}  0.00012    0.137931     4.010999\n",
       "1663           {539951}           {4628597}  0.00020    0.137931     4.010999\n",
       "1664          {1589751}           {4628597}  0.00012    0.137931     4.010999\n",
       "1665  {4108011, 803921}           {4628597}  0.00015    0.137615     4.001800\n",
       "\n",
       "[1665 rows x 5 columns]"
      ]
     },
     "execution_count": 387,
     "metadata": {},
     "output_type": "execute_result"
    }
   ],
   "source": [
    "association_rules_df"
   ]
  },
  {
   "cell_type": "markdown",
   "metadata": {},
   "source": [
    "Found that high lift all have close to 0.0001 threshold support.\n",
    "\n",
    "Try to focus on SKUs that are frequently bought (in at least 0.1% of baskets)"
   ]
  },
  {
   "cell_type": "code",
   "execution_count": 422,
   "metadata": {},
   "outputs": [
    {
     "data": {
      "text/plain": [
       "533"
      ]
     },
     "execution_count": 422,
     "metadata": {},
     "output_type": "execute_result"
    }
   ],
   "source": [
    "SKU_considered2 = np.array(SKU_count[SKU_count>=100].index)\n",
    "len(SKU_considered2)"
   ]
  },
  {
   "cell_type": "code",
   "execution_count": 423,
   "metadata": {},
   "outputs": [],
   "source": [
    "trnsact_pd_slelected_SKU_dict2 = {}\n",
    "i = 0\n",
    "for name, group in trnsact_pd_sampled_grouped:\n",
    "    sub_dict = {}\n",
    "    for SKU in group['SKU']:\n",
    "        if SKU in SKU_considered2:\n",
    "            sub_dict[SKU] = True\n",
    "    trnsact_pd_slelected_SKU_dict2[i] = sub_dict\n",
    "    i+=1"
   ]
  },
  {
   "cell_type": "code",
   "execution_count": 425,
   "metadata": {},
   "outputs": [
    {
     "data": {
      "text/plain": [
       "99918"
      ]
     },
     "execution_count": 425,
     "metadata": {},
     "output_type": "execute_result"
    }
   ],
   "source": [
    "SKU_trans2 = []\n",
    "for value in trnsact_pd_slelected_SKU_dict2.values():\n",
    "    SKU_trans2.append([str(i) for i in list(value.keys())])\n",
    "len(SKU_trans2)"
   ]
  },
  {
   "cell_type": "code",
   "execution_count": null,
   "metadata": {},
   "outputs": [],
   "source": []
  },
  {
   "cell_type": "code",
   "execution_count": 431,
   "metadata": {},
   "outputs": [],
   "source": [
    "association_rules2 = apriori(SKU_trans2, min_support=0.0001, min_confidence=0.1, min_lift=4, min_length=2)"
   ]
  },
  {
   "cell_type": "code",
   "execution_count": 432,
   "metadata": {},
   "outputs": [],
   "source": [
    "association_results_list2 = list(association_rules2)"
   ]
  },
  {
   "cell_type": "code",
   "execution_count": 433,
   "metadata": {},
   "outputs": [
    {
     "data": {
      "text/plain": [
       "390"
      ]
     },
     "execution_count": 433,
     "metadata": {},
     "output_type": "execute_result"
    }
   ],
   "source": [
    "len(association_results_list2)"
   ]
  },
  {
   "cell_type": "code",
   "execution_count": 434,
   "metadata": {},
   "outputs": [],
   "source": [
    "association_rules_dict2 = {}\n",
    "index = 1\n",
    "for item in association_results_list2:\n",
    "    \n",
    "    result_array = [set(item[2][0][0]), set(item[2][0][1]), item[1], item[2][0][2], item[2][0][3]]\n",
    "    association_rules_dict2[index] = result_array\n",
    "    index += 1\n",
    "association_rules_df2 = pd.DataFrame.from_dict(association_rules_dict2, orient='index',\n",
    "                                              columns = ['Base SKU(s)','Assoc SKU(s)', 'Support', 'Confidence', 'Lift'])"
   ]
  },
  {
   "cell_type": "code",
   "execution_count": 435,
   "metadata": {},
   "outputs": [
    {
     "data": {
      "text/html": [
       "<div>\n",
       "<style scoped>\n",
       "    .dataframe tbody tr th:only-of-type {\n",
       "        vertical-align: middle;\n",
       "    }\n",
       "\n",
       "    .dataframe tbody tr th {\n",
       "        vertical-align: top;\n",
       "    }\n",
       "\n",
       "    .dataframe thead th {\n",
       "        text-align: right;\n",
       "    }\n",
       "</style>\n",
       "<table border=\"1\" class=\"dataframe\">\n",
       "  <thead>\n",
       "    <tr style=\"text-align: right;\">\n",
       "      <th></th>\n",
       "      <th>Base SKU(s)</th>\n",
       "      <th>Assoc SKU(s)</th>\n",
       "      <th>Support</th>\n",
       "      <th>Confidence</th>\n",
       "      <th>Lift</th>\n",
       "    </tr>\n",
       "  </thead>\n",
       "  <tbody>\n",
       "    <tr>\n",
       "      <th>1</th>\n",
       "      <td>{1009332}</td>\n",
       "      <td>{7382655}</td>\n",
       "      <td>0.00025</td>\n",
       "      <td>0.136612</td>\n",
       "      <td>33.292683</td>\n",
       "    </tr>\n",
       "    <tr>\n",
       "      <th>2</th>\n",
       "      <td>{1047565}</td>\n",
       "      <td>{267565}</td>\n",
       "      <td>0.00023</td>\n",
       "      <td>0.146497</td>\n",
       "      <td>100.258005</td>\n",
       "    </tr>\n",
       "    <tr>\n",
       "      <th>3</th>\n",
       "      <td>{1047565}</td>\n",
       "      <td>{4108011}</td>\n",
       "      <td>0.00020</td>\n",
       "      <td>0.127389</td>\n",
       "      <td>4.272712</td>\n",
       "    </tr>\n",
       "    <tr>\n",
       "      <th>4</th>\n",
       "      <td>{136343}</td>\n",
       "      <td>{106343}</td>\n",
       "      <td>0.00011</td>\n",
       "      <td>0.104762</td>\n",
       "      <td>37.926087</td>\n",
       "    </tr>\n",
       "    <tr>\n",
       "      <th>5</th>\n",
       "      <td>{5453386}</td>\n",
       "      <td>{106343}</td>\n",
       "      <td>0.00023</td>\n",
       "      <td>0.110577</td>\n",
       "      <td>40.031250</td>\n",
       "    </tr>\n",
       "    <tr>\n",
       "      <th>...</th>\n",
       "      <td>...</td>\n",
       "      <td>...</td>\n",
       "      <td>...</td>\n",
       "      <td>...</td>\n",
       "      <td>...</td>\n",
       "    </tr>\n",
       "    <tr>\n",
       "      <th>386</th>\n",
       "      <td>{803921, 3524026}</td>\n",
       "      <td>{3898011, 3978011}</td>\n",
       "      <td>0.00019</td>\n",
       "      <td>0.200000</td>\n",
       "      <td>63.845367</td>\n",
       "    </tr>\n",
       "    <tr>\n",
       "      <th>387</th>\n",
       "      <td>{3898011, 3559555}</td>\n",
       "      <td>{803921, 3978011}</td>\n",
       "      <td>0.00010</td>\n",
       "      <td>0.142857</td>\n",
       "      <td>99.818182</td>\n",
       "    </tr>\n",
       "    <tr>\n",
       "      <th>388</th>\n",
       "      <td>{4108011, 3559555}</td>\n",
       "      <td>{803921, 3978011}</td>\n",
       "      <td>0.00010</td>\n",
       "      <td>0.119048</td>\n",
       "      <td>83.181818</td>\n",
       "    </tr>\n",
       "    <tr>\n",
       "      <th>389</th>\n",
       "      <td>{3690654, 4628597}</td>\n",
       "      <td>{3968011, 3898011}</td>\n",
       "      <td>0.00014</td>\n",
       "      <td>0.186667</td>\n",
       "      <td>66.374947</td>\n",
       "    </tr>\n",
       "    <tr>\n",
       "      <th>390</th>\n",
       "      <td>{803921, 3690654}</td>\n",
       "      <td>{3968011, 3898011}</td>\n",
       "      <td>0.00014</td>\n",
       "      <td>0.311111</td>\n",
       "      <td>110.624911</td>\n",
       "    </tr>\n",
       "  </tbody>\n",
       "</table>\n",
       "<p>390 rows × 5 columns</p>\n",
       "</div>"
      ],
      "text/plain": [
       "            Base SKU(s)        Assoc SKU(s)  Support  Confidence        Lift\n",
       "1             {1009332}           {7382655}  0.00025    0.136612   33.292683\n",
       "2             {1047565}            {267565}  0.00023    0.146497  100.258005\n",
       "3             {1047565}           {4108011}  0.00020    0.127389    4.272712\n",
       "4              {136343}            {106343}  0.00011    0.104762   37.926087\n",
       "5             {5453386}            {106343}  0.00023    0.110577   40.031250\n",
       "..                  ...                 ...      ...         ...         ...\n",
       "386   {803921, 3524026}  {3898011, 3978011}  0.00019    0.200000   63.845367\n",
       "387  {3898011, 3559555}   {803921, 3978011}  0.00010    0.142857   99.818182\n",
       "388  {4108011, 3559555}   {803921, 3978011}  0.00010    0.119048   83.181818\n",
       "389  {3690654, 4628597}  {3968011, 3898011}  0.00014    0.186667   66.374947\n",
       "390   {803921, 3690654}  {3968011, 3898011}  0.00014    0.311111  110.624911\n",
       "\n",
       "[390 rows x 5 columns]"
      ]
     },
     "execution_count": 435,
     "metadata": {},
     "output_type": "execute_result"
    }
   ],
   "source": [
    "association_rules_df2"
   ]
  },
  {
   "cell_type": "code",
   "execution_count": 436,
   "metadata": {},
   "outputs": [],
   "source": [
    "association_rules_df2 = association_rules_df2.sort_values('Lift', ascending = False)\n",
    "new_index2 = np.arange(1,association_rules_df2.shape[0]+1)\n",
    "association_rules_df2 = association_rules_df2.set_index(new_index2)"
   ]
  },
  {
   "cell_type": "code",
   "execution_count": 437,
   "metadata": {},
   "outputs": [
    {
     "name": "stdout",
     "output_type": "stream",
     "text": [
      "Cut row index: 286\n",
      "101\n"
     ]
    }
   ],
   "source": [
    "SKUs_involved2 = set()\n",
    "for index, rows in association_rules_df2.iterrows():\n",
    "    SKUs = list(rows['Base SKU(s)']) + list(rows['Base SKU(s)'])\n",
    "    for SKU in SKUs:\n",
    "        if SKU not in SKUs_involved2:\n",
    "            SKUs_involved2.add(SKU)\n",
    "    if len(SKUs_involved2) > 100:\n",
    "        print('Cut row index:', index)\n",
    "        print(len(SKUs_involved2))\n",
    "        break"
   ]
  },
  {
   "cell_type": "code",
   "execution_count": 438,
   "metadata": {},
   "outputs": [],
   "source": [
    "pd.DataFrame(list(SKUs_involved2), columns = ['SKU']).to_excel('100SKUs_recommended_individual_min1e-3_support.xlsx')"
   ]
  },
  {
   "cell_type": "code",
   "execution_count": 439,
   "metadata": {},
   "outputs": [],
   "source": [
    "association_rules_df2.to_excel('association_rules_df_individual_min1e-3_support.xlsx')"
   ]
  },
  {
   "cell_type": "markdown",
   "metadata": {},
   "source": [
    "Project code ends here"
   ]
  },
  {
   "cell_type": "code",
   "execution_count": null,
   "metadata": {},
   "outputs": [],
   "source": [
    "for item in association_results:\n",
    "    if len(item[0])>4:\n",
    "        # first index of the inner list\n",
    "        # Contains base item and add item\n",
    "        pair = item[0] \n",
    "        items = [x for x in pair]\n",
    "        print(\"Rule: \" + str(item[2][0][0]) + \" -> \" + str(item[2][0][1]))\n",
    "\n",
    "        #second index of the inner list\n",
    "        print(\"Support: \" + str(item[1]))\n",
    "\n",
    "        #third index of the list located at 0th\n",
    "        #of the third index of the inner list\n",
    "\n",
    "        print(\"Confidence: \" + str(item[2][0][2]))\n",
    "        print(\"Lift: \" + str(item[2][0][3]))\n",
    "        print(\"=====================================\")\n",
    "        "
   ]
  },
  {
   "cell_type": "code",
   "execution_count": 319,
   "metadata": {},
   "outputs": [
    {
     "data": {
      "text/plain": [
       "178"
      ]
     },
     "execution_count": 319,
     "metadata": {},
     "output_type": "execute_result"
    }
   ],
   "source": [
    "len(SKUs_involved)"
   ]
  },
  {
   "cell_type": "code",
   "execution_count": 317,
   "metadata": {},
   "outputs": [
    {
     "name": "stdout",
     "output_type": "stream",
     "text": [
      "Rule: frozenset({'264715', '3524026'}) -> frozenset({'3898011', '3978011'})\n",
      "Support: 0.00012009848075421846\n",
      "Confidence: 0.15384615384615385\n",
      "Lift: 49.11182108626198\n",
      "=====================================\n",
      "Rule: frozenset({'3898011', '2726578'}) -> frozenset({'803921', '3978011'})\n",
      "Support: 0.00012009848075421846\n",
      "Confidence: 0.125\n",
      "Lift: 87.3409090909091\n",
      "=====================================\n",
      "Rule: frozenset({'348498', '3524026'}) -> frozenset({'3898011', '3978011'})\n",
      "Support: 0.00010008206729518205\n",
      "Confidence: 0.16666666666666666\n",
      "Lift: 53.204472843450475\n",
      "=====================================\n",
      "Rule: frozenset({'3559555', '3524026'}) -> frozenset({'3898011', '3978011'})\n",
      "Support: 0.0002001641345903641\n",
      "Confidence: 0.2564102564102564\n",
      "Lift: 81.85303514376996\n",
      "=====================================\n",
      "Rule: frozenset({'3559555', '3524026'}) -> frozenset({'803921', '3978011'})\n",
      "Support: 0.00011009027402470025\n",
      "Confidence: 0.14102564102564102\n",
      "Lift: 98.53846153846153\n",
      "=====================================\n",
      "Rule: frozenset({'3582465', '3524026'}) -> frozenset({'3898011', '3978011'})\n",
      "Support: 0.00010008206729518205\n",
      "Confidence: 0.23255813953488372\n",
      "Lift: 74.23879931644252\n",
      "=====================================\n",
      "Rule: frozenset({'4208011', '3524026'}) -> frozenset({'3898011', '3978011'})\n",
      "Support: 0.00012009848075421846\n",
      "Confidence: 0.1935483870967742\n",
      "Lift: 61.78583943110378\n",
      "=====================================\n",
      "Rule: frozenset({'803921', '3524026'}) -> frozenset({'3898011', '3978011'})\n",
      "Support: 0.0001901559278608459\n",
      "Confidence: 0.2\n",
      "Lift: 63.845367412140575\n",
      "=====================================\n",
      "Rule: frozenset({'3898011', '3559555'}) -> frozenset({'803921', '3978011'})\n",
      "Support: 0.00010008206729518205\n",
      "Confidence: 0.14285714285714285\n",
      "Lift: 99.81818181818181\n",
      "=====================================\n",
      "Rule: frozenset({'4108011', '3559555'}) -> frozenset({'803921', '3978011'})\n",
      "Support: 0.00010008206729518205\n",
      "Confidence: 0.11904761904761904\n",
      "Lift: 83.18181818181817\n",
      "=====================================\n",
      "Rule: frozenset({'3690654', '4628597'}) -> frozenset({'3968011', '3898011'})\n",
      "Support: 0.00014011489421325487\n",
      "Confidence: 0.18666666666666668\n",
      "Lift: 66.37494661921708\n",
      "=====================================\n",
      "Rule: frozenset({'803921', '3690654'}) -> frozenset({'3968011', '3898011'})\n",
      "Support: 0.00014011489421325487\n",
      "Confidence: 0.3111111111111111\n",
      "Lift: 110.62491103202848\n",
      "=====================================\n"
     ]
    }
   ],
   "source": [
    "for item in association_results:\n",
    "    if len(item[0])>3:\n",
    "        # first index of the inner list\n",
    "        # Contains base item and add item\n",
    "        pair = item[0] \n",
    "        items = [x for x in pair]\n",
    "        print(\"Rule: \" + str(item[2][0][0]) + \" -> \" + str(item[2][0][1]))\n",
    "\n",
    "        #second index of the inner list\n",
    "        print(\"Support: \" + str(item[1]))\n",
    "\n",
    "        #third index of the list located at 0th\n",
    "        #of the third index of the inner list\n",
    "\n",
    "        print(\"Confidence: \" + str(item[2][0][2]))\n",
    "        print(\"Lift: \" + str(item[2][0][3]))\n",
    "        print(\"=====================================\")\n",
    "        "
   ]
  },
  {
   "cell_type": "code",
   "execution_count": null,
   "metadata": {},
   "outputs": [],
   "source": []
  },
  {
   "cell_type": "code",
   "execution_count": null,
   "metadata": {},
   "outputs": [],
   "source": []
  }
 ],
 "metadata": {
  "kernelspec": {
   "display_name": "Python 3",
   "language": "python",
   "name": "python3"
  },
  "language_info": {
   "codemirror_mode": {
    "name": "ipython",
    "version": 3
   },
   "file_extension": ".py",
   "mimetype": "text/x-python",
   "name": "python",
   "nbconvert_exporter": "python",
   "pygments_lexer": "ipython3",
   "version": "3.8.5"
  }
 },
 "nbformat": 4,
 "nbformat_minor": 4
}
